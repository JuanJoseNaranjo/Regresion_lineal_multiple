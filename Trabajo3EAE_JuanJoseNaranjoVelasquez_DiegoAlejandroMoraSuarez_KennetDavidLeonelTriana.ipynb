{
 "cells": [
  {
   "cell_type": "markdown",
   "metadata": {},
   "source": [
    "El jefe de personal de una agencia gubernamental administró cuatro pruebas de aptitud a cada uno de los 25 aspirantes a cargos administrativos en la agencia. Para el propósito del estudio, se aceptaron a todos los aspirantes para 25 posiciones independiente de sus puntajes en la pruebas. Después de un período de prueba, cada aspirante fue evaluado en su habilidad de trabajo. El puntaje obtenido relativo a la habilidad laboral (Y) y los puntajes en las cuatro pruebas (X1,X2,X3,X4) están consignados en el archivo laboral.csv. Emplee el análisis de regresión lineal múltiple para obtener una ecuación de regresión estimada que sirva para pronosticar la habilidad laboral, dadas las demás variables (Xi).\n",
    "\n",
    "1. Emplee el análisis de regresión lineal múltiple que explique la habilidad laboral en términos de las variables restantes (actuando como predictoras Xi).\n",
    "\n",
    "2. Identifique observaciones que puedan considerarse problemáticas (datos atípicos, puntos de balanceo e influyentes) y analice si debe eliminarlas de su conjunto de datos o no, justifique. Repita la construcción del modelo de regresión si eliminó observaciones.\n",
    "\n",
    "3. Realice la prueba de significancia del modelo, interprete.\n",
    "\n",
    "4. Obtener el coeficiente de determinación y el coeficiente de determinación ajustado. Interprete.\n",
    "\n",
    "5. Analice si hay problemas de multicolinealidad.\n",
    "\n",
    "6. Realice una selección de variables por el método que prefiera, tome decisiones, explique.\n",
    "\n",
    "7. Realice una predicción utilizando el modelo seleccionado, interprete."
   ]
  },
  {
   "cell_type": "code",
   "execution_count": 39,
   "metadata": {},
   "outputs": [],
   "source": [
    "import pandas as pd\n",
    "from scipy.stats import t, norm, shapiro, levene,pearsonr\n",
    "import matplotlib.pyplot as plt\n",
    "import seaborn as sns\n",
    "import numpy as np\n",
    "import statsmodels.api as sm\n",
    "from sklearn.model_selection import train_test_split\n",
    "from statsmodels.tools.eval_measures import rmse\n",
    "from statsmodels.stats.outliers_influence import variance_inflation_factor\n",
    "from statsmodels.stats.diagnostic import het_breuschpagan\n",
    "import statsmodels.formula.api as smf"
   ]
  },
  {
   "cell_type": "code",
   "execution_count": 40,
   "metadata": {},
   "outputs": [],
   "source": [
    "DatosLaboral = pd.read_csv(\"https://raw.githubusercontent.com/JuanJoseNaranjo/Regresion_lineal_multiple/refs/heads/main/laboral.csv\", sep=';')"
   ]
  },
  {
   "cell_type": "code",
   "execution_count": 74,
   "metadata": {},
   "outputs": [
    {
     "data": {
      "text/html": [
       "<div>\n",
       "<style scoped>\n",
       "    .dataframe tbody tr th:only-of-type {\n",
       "        vertical-align: middle;\n",
       "    }\n",
       "\n",
       "    .dataframe tbody tr th {\n",
       "        vertical-align: top;\n",
       "    }\n",
       "\n",
       "    .dataframe thead th {\n",
       "        text-align: right;\n",
       "    }\n",
       "</style>\n",
       "<table border=\"1\" class=\"dataframe\">\n",
       "  <thead>\n",
       "    <tr style=\"text-align: right;\">\n",
       "      <th></th>\n",
       "      <th>Y</th>\n",
       "      <th>X1</th>\n",
       "      <th>X2</th>\n",
       "      <th>X3</th>\n",
       "      <th>X4</th>\n",
       "    </tr>\n",
       "  </thead>\n",
       "  <tbody>\n",
       "    <tr>\n",
       "      <th>0</th>\n",
       "      <td>88</td>\n",
       "      <td>86</td>\n",
       "      <td>110</td>\n",
       "      <td>100</td>\n",
       "      <td>87</td>\n",
       "    </tr>\n",
       "    <tr>\n",
       "      <th>1</th>\n",
       "      <td>80</td>\n",
       "      <td>62</td>\n",
       "      <td>97</td>\n",
       "      <td>99</td>\n",
       "      <td>100</td>\n",
       "    </tr>\n",
       "    <tr>\n",
       "      <th>2</th>\n",
       "      <td>96</td>\n",
       "      <td>110</td>\n",
       "      <td>107</td>\n",
       "      <td>103</td>\n",
       "      <td>103</td>\n",
       "    </tr>\n",
       "    <tr>\n",
       "      <th>3</th>\n",
       "      <td>76</td>\n",
       "      <td>101</td>\n",
       "      <td>117</td>\n",
       "      <td>93</td>\n",
       "      <td>95</td>\n",
       "    </tr>\n",
       "    <tr>\n",
       "      <th>4</th>\n",
       "      <td>80</td>\n",
       "      <td>100</td>\n",
       "      <td>101</td>\n",
       "      <td>95</td>\n",
       "      <td>88</td>\n",
       "    </tr>\n",
       "    <tr>\n",
       "      <th>5</th>\n",
       "      <td>73</td>\n",
       "      <td>78</td>\n",
       "      <td>85</td>\n",
       "      <td>95</td>\n",
       "      <td>84</td>\n",
       "    </tr>\n",
       "    <tr>\n",
       "      <th>6</th>\n",
       "      <td>58</td>\n",
       "      <td>120</td>\n",
       "      <td>77</td>\n",
       "      <td>80</td>\n",
       "      <td>74</td>\n",
       "    </tr>\n",
       "    <tr>\n",
       "      <th>7</th>\n",
       "      <td>116</td>\n",
       "      <td>105</td>\n",
       "      <td>122</td>\n",
       "      <td>116</td>\n",
       "      <td>102</td>\n",
       "    </tr>\n",
       "    <tr>\n",
       "      <th>8</th>\n",
       "      <td>104</td>\n",
       "      <td>112</td>\n",
       "      <td>119</td>\n",
       "      <td>106</td>\n",
       "      <td>105</td>\n",
       "    </tr>\n",
       "    <tr>\n",
       "      <th>9</th>\n",
       "      <td>99</td>\n",
       "      <td>120</td>\n",
       "      <td>89</td>\n",
       "      <td>105</td>\n",
       "      <td>97</td>\n",
       "    </tr>\n",
       "    <tr>\n",
       "      <th>10</th>\n",
       "      <td>64</td>\n",
       "      <td>87</td>\n",
       "      <td>81</td>\n",
       "      <td>90</td>\n",
       "      <td>88</td>\n",
       "    </tr>\n",
       "    <tr>\n",
       "      <th>11</th>\n",
       "      <td>126</td>\n",
       "      <td>133</td>\n",
       "      <td>120</td>\n",
       "      <td>113</td>\n",
       "      <td>108</td>\n",
       "    </tr>\n",
       "    <tr>\n",
       "      <th>12</th>\n",
       "      <td>94</td>\n",
       "      <td>140</td>\n",
       "      <td>121</td>\n",
       "      <td>96</td>\n",
       "      <td>89</td>\n",
       "    </tr>\n",
       "    <tr>\n",
       "      <th>13</th>\n",
       "      <td>71</td>\n",
       "      <td>84</td>\n",
       "      <td>113</td>\n",
       "      <td>98</td>\n",
       "      <td>78</td>\n",
       "    </tr>\n",
       "    <tr>\n",
       "      <th>14</th>\n",
       "      <td>111</td>\n",
       "      <td>106</td>\n",
       "      <td>102</td>\n",
       "      <td>109</td>\n",
       "      <td>109</td>\n",
       "    </tr>\n",
       "    <tr>\n",
       "      <th>15</th>\n",
       "      <td>109</td>\n",
       "      <td>109</td>\n",
       "      <td>129</td>\n",
       "      <td>102</td>\n",
       "      <td>108</td>\n",
       "    </tr>\n",
       "    <tr>\n",
       "      <th>16</th>\n",
       "      <td>100</td>\n",
       "      <td>104</td>\n",
       "      <td>83</td>\n",
       "      <td>100</td>\n",
       "      <td>102</td>\n",
       "    </tr>\n",
       "    <tr>\n",
       "      <th>17</th>\n",
       "      <td>127</td>\n",
       "      <td>150</td>\n",
       "      <td>118</td>\n",
       "      <td>107</td>\n",
       "      <td>110</td>\n",
       "    </tr>\n",
       "    <tr>\n",
       "      <th>18</th>\n",
       "      <td>99</td>\n",
       "      <td>98</td>\n",
       "      <td>125</td>\n",
       "      <td>108</td>\n",
       "      <td>95</td>\n",
       "    </tr>\n",
       "    <tr>\n",
       "      <th>19</th>\n",
       "      <td>82</td>\n",
       "      <td>120</td>\n",
       "      <td>94</td>\n",
       "      <td>95</td>\n",
       "      <td>90</td>\n",
       "    </tr>\n",
       "    <tr>\n",
       "      <th>20</th>\n",
       "      <td>67</td>\n",
       "      <td>74</td>\n",
       "      <td>121</td>\n",
       "      <td>91</td>\n",
       "      <td>85</td>\n",
       "    </tr>\n",
       "    <tr>\n",
       "      <th>21</th>\n",
       "      <td>109</td>\n",
       "      <td>96</td>\n",
       "      <td>114</td>\n",
       "      <td>114</td>\n",
       "      <td>103</td>\n",
       "    </tr>\n",
       "    <tr>\n",
       "      <th>22</th>\n",
       "      <td>78</td>\n",
       "      <td>104</td>\n",
       "      <td>73</td>\n",
       "      <td>93</td>\n",
       "      <td>80</td>\n",
       "    </tr>\n",
       "    <tr>\n",
       "      <th>23</th>\n",
       "      <td>115</td>\n",
       "      <td>94</td>\n",
       "      <td>121</td>\n",
       "      <td>115</td>\n",
       "      <td>104</td>\n",
       "    </tr>\n",
       "    <tr>\n",
       "      <th>24</th>\n",
       "      <td>83</td>\n",
       "      <td>91</td>\n",
       "      <td>129</td>\n",
       "      <td>97</td>\n",
       "      <td>83</td>\n",
       "    </tr>\n",
       "  </tbody>\n",
       "</table>\n",
       "</div>"
      ],
      "text/plain": [
       "      Y   X1   X2   X3   X4\n",
       "0    88   86  110  100   87\n",
       "1    80   62   97   99  100\n",
       "2    96  110  107  103  103\n",
       "3    76  101  117   93   95\n",
       "4    80  100  101   95   88\n",
       "5    73   78   85   95   84\n",
       "6    58  120   77   80   74\n",
       "7   116  105  122  116  102\n",
       "8   104  112  119  106  105\n",
       "9    99  120   89  105   97\n",
       "10   64   87   81   90   88\n",
       "11  126  133  120  113  108\n",
       "12   94  140  121   96   89\n",
       "13   71   84  113   98   78\n",
       "14  111  106  102  109  109\n",
       "15  109  109  129  102  108\n",
       "16  100  104   83  100  102\n",
       "17  127  150  118  107  110\n",
       "18   99   98  125  108   95\n",
       "19   82  120   94   95   90\n",
       "20   67   74  121   91   85\n",
       "21  109   96  114  114  103\n",
       "22   78  104   73   93   80\n",
       "23  115   94  121  115  104\n",
       "24   83   91  129   97   83"
      ]
     },
     "execution_count": 74,
     "metadata": {},
     "output_type": "execute_result"
    }
   ],
   "source": [
    "DatosLaboral"
   ]
  },
  {
   "cell_type": "markdown",
   "metadata": {},
   "source": [
    "1. Emplee el análisis de regresión lineal múltiple que explique la habilidad laboral en términos de las variables restantes (actuando como predictoras Xi)."
   ]
  },
  {
   "cell_type": "code",
   "execution_count": 63,
   "metadata": {},
   "outputs": [
    {
     "data": {
      "text/plain": [
       "25"
      ]
     },
     "execution_count": 63,
     "metadata": {},
     "output_type": "execute_result"
    }
   ],
   "source": [
    "# Dividiendo los datos\n",
    "x = DatosLaboral.drop(columns='Y')\n",
    "y = DatosLaboral['Y']\n"
   ]
  },
  {
   "cell_type": "code",
   "execution_count": 59,
   "metadata": {},
   "outputs": [],
   "source": [
    "x_train, x_test, y_train, y_test = train_test_split(\n",
    "                                        x,\n",
    "                                        y.values.reshape(-1,1),\n",
    "                                        train_size   = 0.8,\n",
    "                                        random_state = 1234,\n",
    "                                        shuffle      = True\n",
    "                                    )"
   ]
  },
  {
   "cell_type": "code",
   "execution_count": 64,
   "metadata": {},
   "outputs": [],
   "source": [
    "# Ajuste del modelo utilizando matrices X, y (similar a scikit-learn)\n",
    "# ==============================================================================\n",
    "# A la matriz de predictores se le tiene que añadir una columna de 1s\n",
    "# para el intercept del modelo\n",
    "\n",
    "x = sm.add_constant(x) # Es el intercepto\n",
    "modelo = sm.OLS(y,x).fit()\n",
    "\n",
    "# x_train = sm.add_constant(x_train, prepend=True).rename(columns={'const':'intercept'})\n",
    "# modelo = sm.OLS(endog=y_train, exog=x_train).fit()\n",
    "# print(modelo.summary())"
   ]
  },
  {
   "cell_type": "code",
   "execution_count": 65,
   "metadata": {},
   "outputs": [
    {
     "data": {
      "text/plain": [
       "25"
      ]
     },
     "execution_count": 65,
     "metadata": {},
     "output_type": "execute_result"
    }
   ],
   "source": [
    "# Debemos revisar los valores atipicos del modelo, de tal forma que si existen los identificamos y sustraemos para generar el nuevo modelo\n",
    "# esto lo realizamos con los test Cook, Diffits, hii\n",
    "\n",
    "#obtener la distancia de Cook para cada observación\n",
    "influence = modelo.get_influence()\n",
    "cook = influence.cooks_distance[0]\n",
    "len(cook)"
   ]
  },
  {
   "cell_type": "code",
   "execution_count": 71,
   "metadata": {},
   "outputs": [
    {
     "data": {
      "image/png": "[encoded data removed]",
      "text/plain": [
       "<Figure size 1000x600 with 1 Axes>"
      ]
     },
     "metadata": {},
     "output_type": "display_data"
    }
   ],
   "source": [
    "# Graficar la distancia de Cook\n",
    "plt.figure(figsize=(10, 6))\n",
    "plt.stem(range(len(cook)), cook, markerfmt=\" \", basefmt=\" \")\n",
    "plt.title('Distancia de Cook')\n",
    "plt.xlabel('Observaciones')\n",
    "plt.ylabel('Distancia de Cook')\n",
    "plt.axhline(y=4 / len(DatosLaboral), color='r', linestyle='--', label='Límite crítico (4/n)')\n",
    "plt.legend()\n",
    "plt.grid()\n",
    "plt.show()"
   ]
  },
  {
   "cell_type": "markdown",
   "metadata": {},
   "source": [
    "Toca preguntar por cúal nos vamos a llevar a cabo"
   ]
  },
  {
   "cell_type": "code",
   "execution_count": 77,
   "metadata": {},
   "outputs": [
    {
     "data": {
      "text/html": [
       "<div>\n",
       "<style scoped>\n",
       "    .dataframe tbody tr th:only-of-type {\n",
       "        vertical-align: middle;\n",
       "    }\n",
       "\n",
       "    .dataframe tbody tr th {\n",
       "        vertical-align: top;\n",
       "    }\n",
       "\n",
       "    .dataframe thead th {\n",
       "        text-align: right;\n",
       "    }\n",
       "</style>\n",
       "<table border=\"1\" class=\"dataframe\">\n",
       "  <thead>\n",
       "    <tr style=\"text-align: right;\">\n",
       "      <th></th>\n",
       "      <th>Y</th>\n",
       "      <th>X1</th>\n",
       "      <th>X2</th>\n",
       "      <th>X3</th>\n",
       "      <th>X4</th>\n",
       "    </tr>\n",
       "  </thead>\n",
       "  <tbody>\n",
       "  </tbody>\n",
       "</table>\n",
       "</div>"
      ],
      "text/plain": [
       "Empty DataFrame\n",
       "Columns: [Y, X1, X2, X3, X4]\n",
       "Index: []"
      ]
     },
     "execution_count": 77,
     "metadata": {},
     "output_type": "execute_result"
    }
   ],
   "source": [
    "punto = DatosLaboral[cook > 1 ]\n",
    "punto"
   ]
  },
  {
   "cell_type": "markdown",
   "metadata": {},
   "source": [
    "Punto influyente por distancia de Cook"
   ]
  },
  {
   "cell_type": "code",
   "execution_count": 75,
   "metadata": {},
   "outputs": [
    {
     "data": {
      "text/html": [
       "<div>\n",
       "<style scoped>\n",
       "    .dataframe tbody tr th:only-of-type {\n",
       "        vertical-align: middle;\n",
       "    }\n",
       "\n",
       "    .dataframe tbody tr th {\n",
       "        vertical-align: top;\n",
       "    }\n",
       "\n",
       "    .dataframe thead th {\n",
       "        text-align: right;\n",
       "    }\n",
       "</style>\n",
       "<table border=\"1\" class=\"dataframe\">\n",
       "  <thead>\n",
       "    <tr style=\"text-align: right;\">\n",
       "      <th></th>\n",
       "      <th>Y</th>\n",
       "      <th>X1</th>\n",
       "      <th>X2</th>\n",
       "      <th>X3</th>\n",
       "      <th>X4</th>\n",
       "    </tr>\n",
       "  </thead>\n",
       "  <tbody>\n",
       "    <tr>\n",
       "      <th>15</th>\n",
       "      <td>109</td>\n",
       "      <td>109</td>\n",
       "      <td>129</td>\n",
       "      <td>102</td>\n",
       "      <td>108</td>\n",
       "    </tr>\n",
       "  </tbody>\n",
       "</table>\n",
       "</div>"
      ],
      "text/plain": [
       "      Y   X1   X2   X3   X4\n",
       "15  109  109  129  102  108"
      ]
     },
     "execution_count": 75,
     "metadata": {},
     "output_type": "execute_result"
    }
   ],
   "source": [
    "puntoInfluyente = DatosLaboral[cook > (4/len(DatosLaboral)) ]\n",
    "puntoInfluyente"
   ]
  },
  {
   "cell_type": "code",
   "execution_count": 6,
   "metadata": {},
   "outputs": [
    {
     "ename": "NameError",
     "evalue": "name 'modelo_final_res' is not defined",
     "output_type": "error",
     "traceback": [
      "\u001b[1;31m---------------------------------------------------------------------------\u001b[0m",
      "\u001b[1;31mNameError\u001b[0m                                 Traceback (most recent call last)",
      "Cell \u001b[1;32mIn[6], line 3\u001b[0m\n\u001b[0;32m      1\u001b[0m \u001b[38;5;66;03m# Residuos del modelo\u001b[39;00m\n\u001b[0;32m      2\u001b[0m \u001b[38;5;66;03m# ==============================================================================\u001b[39;00m\n\u001b[1;32m----> 3\u001b[0m residuos \u001b[38;5;241m=\u001b[39m \u001b[43mmodelo_final_res\u001b[49m\u001b[38;5;241m.\u001b[39mresid\n\u001b[0;32m      5\u001b[0m \u001b[38;5;66;03m# prediciones de entrenamiento\u001b[39;00m\n\u001b[0;32m      6\u001b[0m \u001b[38;5;66;03m# ==============================================================================\u001b[39;00m\n\u001b[0;32m      7\u001b[0m prediccion_train \u001b[38;5;241m=\u001b[39m modelo_final_res\u001b[38;5;241m.\u001b[39mpredict(X_train[predictores])\n",
      "\u001b[1;31mNameError\u001b[0m: name 'modelo_final_res' is not defined"
     ]
    }
   ],
   "source": [
    "# Residuos del modelo\n",
    "# ==============================================================================\n",
    "residuos = modelo_final_res.resid\n",
    "\n",
    "# prediciones de entrenamiento\n",
    "# ==============================================================================\n",
    "prediccion_train = modelo_final_res.predict(X_train[predictores])"
   ]
  },
  {
   "cell_type": "code",
   "execution_count": null,
   "metadata": {},
   "outputs": [],
   "source": [
    "# Gráficos\n",
    "# ==============================================================================\n",
    "fig, axes = plt.subplots(nrows=3, ncols=2, figsize=(9, 8))\n",
    "\n",
    "axes[0, 0].scatter(y_train, prediccion_train, edgecolors=(0, 0, 0), alpha = 0.4)\n",
    "axes[0, 0].plot([y_train.min(), y_train.max()], [y_train.min(), y_train.max()], 'k--', lw=2)\n",
    "axes[0, 0].set_title('Valor predicho vs valor real', fontsize=10)\n",
    "axes[0, 0].set_xlabel('Real')\n",
    "axes[0, 0].set_ylabel('Predicción')\n",
    "axes[0, 0].tick_params(labelsize = 7)\n",
    "\n",
    "axes[0, 1].scatter(list(range(len(y_train))), residuos, edgecolors=(0, 0, 0), alpha=0.4)\n",
    "axes[0, 1].axhline(y=0, linestyle='--', color='black', lw=2)\n",
    "axes[0, 1].set_title('Residuos del modelo', fontsize = 10)\n",
    "axes[0, 1].set_xlabel('id')\n",
    "axes[0, 1].set_ylabel('Residuo')\n",
    "axes[0, 1].tick_params(labelsize = 7)\n",
    "\n",
    "sns.histplot(\n",
    "    data     = residuos,\n",
    "    stat     = \"density\",\n",
    "    kde      = True,\n",
    "    line_kws = {'linewidth': 1},\n",
    "    color    = \"firebrick\",\n",
    "    alpha    = 0.3,\n",
    "    ax       = axes[1, 0]\n",
    ")\n",
    "\n",
    "axes[1, 0].set_title('Distribución residuos del modelo', fontsize=10)\n",
    "axes[1, 0].set_xlabel(\"Residuo\")\n",
    "axes[1, 0].tick_params(labelsize = 7)\n",
    "\n",
    "sm.qqplot(\n",
    "    residuos,\n",
    "    fit   = True,\n",
    "    line  = 'q',\n",
    "    ax    = axes[1, 1],\n",
    "    color = 'firebrick',\n",
    "    alpha = 0.4,\n",
    "    lw    = 2\n",
    ")\n",
    "axes[1, 1].set_title('Q-Q residuos del modelo', fontsize=10)\n",
    "axes[1, 1].tick_params(labelsize=7)\n",
    "\n",
    "axes[2, 0].scatter(prediccion_train, residuos, edgecolors=(0, 0, 0), alpha=0.4)\n",
    "axes[2, 0].axhline(y=0, linestyle='--', color='black', lw=2)\n",
    "axes[2, 0].set_title('Residuos del modelo vs predicción', fontsize=10)\n",
    "axes[2, 0].set_xlabel('Predicción')\n",
    "axes[2, 0].set_ylabel('Residuo')\n",
    "axes[2, 0].tick_params(labelsize=7)\n",
    "\n",
    "# Se eliminan los axes vacíos\n",
    "fig.delaxes(axes[2,1])\n",
    "\n",
    "fig.tight_layout()\n",
    "plt.subplots_adjust(top=0.9)\n",
    "fig.suptitle('Diagnóstico residuos', fontsize=12)"
   ]
  },
  {
   "cell_type": "markdown",
   "metadata": {},
   "source": [
    "Test de supuestos"
   ]
  },
  {
   "cell_type": "code",
   "execution_count": null,
   "metadata": {},
   "outputs": [],
   "source": [
    "# Normalidad de los residuos Shapiro-Wilk test\n",
    "# ==============================================================================\n",
    "shapiro_test = stats.shapiro(residuos)\n",
    "print(f\"Test Shapiro-Wilk: estadístico = {shapiro_test[0]}, p-value = {shapiro_test[1]}\")\n",
    "\n",
    "# Normalidad de los residuos D'Agostino's K-squared test\n",
    "# ==============================================================================\n",
    "k2, p_value = stats.normaltest(residuos)\n",
    "print(f\"Test D'Agostino's K-squared: estadístico = {k2}, p-value = {p_value}\")"
   ]
  },
  {
   "cell_type": "code",
   "execution_count": null,
   "metadata": {},
   "outputs": [],
   "source": [
    "# Varianza Constante\n",
    "# Prueba de Breusch-Pagan\n",
    "# ==============================================================================\n",
    "lm, lm_p_value, fvalue, f_p_value = het_breuschpagan(residuos, X_train[predictores])\n",
    "print(f\"Estadítico= {fvalue}, p-value = {f_p_value}\")"
   ]
  },
  {
   "cell_type": "code",
   "execution_count": null,
   "metadata": {},
   "outputs": [],
   "source": [
    "# Multicolinealidad (Inflación de varianza VIF)\n",
    "# Correlación entre predictores numéricos\n",
    "# ==============================================================================\n",
    "corr_matrix = X_train[predictores].corr(method='pearson')\n",
    "tril = np.tril(np.ones(corr_matrix.shape)).astype(bool)\n",
    "corr_matrix[tril] = np.nan\n",
    "corr_matrix_tidy = corr_matrix.stack().reset_index(name='r')\n",
    "corr_matrix_tidy = corr_matrix_tidy.rename(columns={'level_0': 'variable_1', 'level_1': 'variable_2'})\n",
    "corr_matrix_tidy = corr_matrix_tidy.dropna()\n",
    "corr_matrix_tidy['r_abs'] = corr_matrix_tidy['r'].abs()\n",
    "corr_matrix_tidy = corr_matrix_tidy.sort_values('r_abs', ascending=False).reset_index(drop=True)\n",
    "corr_matrix_tidy"
   ]
  },
  {
   "cell_type": "code",
   "execution_count": null,
   "metadata": {},
   "outputs": [],
   "source": [
    "# Cálculo del VIF\n",
    "# ==============================================================================\n",
    "vif = pd.DataFrame()\n",
    "vif[\"variables\"] = X_train[predictores].columns\n",
    "vif[\"VIF\"] = [variance_inflation_factor(X_train[predictores].values, i) for i in range(X_train[predictores].shape[1])]\n",
    "vif\n",
    "\n",
    "#VIF son factores de inflación de varianza, podemos medir multicolinealidad con ellos según las reglas VIF"
   ]
  },
  {
   "cell_type": "markdown",
   "metadata": {},
   "source": [
    "Predicciones"
   ]
  },
  {
   "cell_type": "code",
   "execution_count": null,
   "metadata": {},
   "outputs": [],
   "source": [
    "# Prediciones del conjunto de test\n",
    "# ==============================================================================\n",
    "X_test = sm.add_constant(X_test, prepend=True).rename(columns={'const':'intercept'})\n",
    "modelo_final_res.predict(X_test[predictores])"
   ]
  },
  {
   "cell_type": "code",
   "execution_count": null,
   "metadata": {},
   "outputs": [],
   "source": [
    "# Predicciones con intervalo de confianza\n",
    "# ==============================================================================\n",
    "# La columna mean contiene la media de la predicción\n",
    "predicciones = modelo_final_res.get_prediction(exog = X_test[predictores]).summary_frame(alpha=0.05)\n",
    "predicciones"
   ]
  },
  {
   "cell_type": "code",
   "execution_count": null,
   "metadata": {},
   "outputs": [],
   "source": [
    "# Error de test del modelo\n",
    "# ==============================================================================\n",
    "error = rmse(y_test.flatten(), predicciones['mean'])\n",
    "print(f\"El error (rmse) de test es: {error}\")"
   ]
  },
  {
   "cell_type": "code",
   "execution_count": null,
   "metadata": {},
   "outputs": [],
   "source": [
    "# Correlación lineal entre variables numéricas\n",
    "# ==============================================================================\n",
    "corr_matrix = datos.corr(method='pearson')\n",
    "tril = np.tril(np.ones(corr_matrix.shape)).astype(bool)\n",
    "corr_matrix[tril] = np.nan\n",
    "corr_matrix_tidy = corr_matrix.stack().reset_index(name='r')\n",
    "corr_matrix_tidy = corr_matrix_tidy.rename(columns={'level_0': 'variable_1', 'level_1': 'variable_2'})\n",
    "corr_matrix_tidy = corr_matrix_tidy.dropna()\n",
    "corr_matrix_tidy['r_abs'] = corr_matrix_tidy['r'].abs()\n",
    "corr_matrix_tidy = corr_matrix_tidy.sort_values('r_abs', ascending=False).reset_index(drop=True)\n",
    "corr_matrix_tidy"
   ]
  },
  {
   "cell_type": "markdown",
   "metadata": {},
   "source": [
    "3 - Analice si hay una relación lineal entre las variables inversión en Marketing y ventas, mediante una regresión lineal con todos sus repectivos componentes.\n",
    "\n",
    "Formula Utilizada:\n",
    "\n",
    "y = β0+β1 * x\n",
    "\n",
    "x= variable independiente\n",
    "\n",
    "y= dependiente ventas\n",
    "\n",
    "β0= intercepto\n",
    "\n",
    "β1=pendiente midiendo el cambio en y\n",
    "\n",
    "\n"
   ]
  },
  {
   "cell_type": "code",
   "execution_count": 7,
   "metadata": {},
   "outputs": [],
   "source": [
    "x=sm.add_constant(x) # Añadimos la constante\n",
    "\n",
    "modelo_lineal=sm.OLS(y,x).fit() # Ajustamos el modelo\n",
    "resumen_modelo=modelo_lineal.summary() # Resumen del modelo\n",
    "#print(resumen_modelo)\n"
   ]
  },
  {
   "cell_type": "code",
   "execution_count": null,
   "metadata": {},
   "outputs": [],
   "source": [
    "\n",
    "\n",
    "intercepcion=modelo_lineal.params.iloc[0] # Valor de la intercepción\n",
    "pendiente=modelo_lineal.params.iloc[1] # Valor de la pendiente\n",
    "coeficiente_determinacion=modelo_lineal.rsquared # Coeficiente de determinación\n",
    "valor_p=modelo_lineal.pvalues.iloc[1]  # Valor p para la pendiente\n",
    "\n",
    "\n",
    "\n",
    "print(f'Intercepción (β0): {intercepcion}')\n",
    "print(f'Pendiente (β1): {pendiente}')\n",
    "print(f'Coeficiente de determinación (R²): {coeficiente_determinacion}')\n",
    "print(f'Valor p para la pendiente: {valor_p}')\n",
    "print(resumen_modelo)\n",
    "\n",
    "\n"
   ]
  },
  {
   "cell_type": "code",
   "execution_count": null,
   "metadata": {},
   "outputs": [],
   "source": [
    "predicion_ventas= modelo_lineal.predict(x) # Predicción de ventas\n",
    "# Graficar la línea de regresión con los datos reales\n",
    "plt.figure(figsize=(8, 6))\n",
    "\n",
    "# Gráfico de dispersión de las ventas reales vs inversión\n",
    "plt.scatter(DatosMd['Inversión en marketing digital'], DatosMd['Venta'], color='green', label='Datos')\n",
    "\n",
    "# Graficar la línea de regresión\n",
    "plt.plot(DatosMd['Inversión en marketing digital'], predicion_ventas, color='red', label='Regresión Lineal')\n",
    "\n",
    "# Añadir etiquetas y título\n",
    "plt.title('Regresión Lineal: Inversión en Marketing vs Ventas')\n",
    "plt.xlabel('Inversión en Marketing Digital (COP)')\n",
    "plt.ylabel('Ventas (COP)')\n",
    "plt.legend()\n",
    "plt.grid(True)"
   ]
  },
  {
   "cell_type": "markdown",
   "metadata": {},
   "source": [
    "En conclusion podriamos indicar que existe una relación medianamente positiva y significativa entre la inversión en marketing digital y las ventas.La línea roja muestra cómo se predicen las ventas en función de la inversión en marketing (datos en verde), observando el valor de la pendiente nos confirma la realacion entre estas variables.\n",
    "\n",
    "Otro punto importante analizar es el coeficiente de determinacion que esta en un 0.5580 de la variablidad en ventas puede explicarse por la inversion en marketing."
   ]
  },
  {
   "cell_type": "markdown",
   "metadata": {},
   "source": [
    "### Validando los supuestos del modelo de regresion lineal"
   ]
  },
  {
   "cell_type": "markdown",
   "metadata": {},
   "source": [
    "### Aleatoriedad"
   ]
  },
  {
   "cell_type": "code",
   "execution_count": null,
   "metadata": {},
   "outputs": [],
   "source": [
    "# Calculo de error (residuales)\n",
    "\n",
    "residuales= y - predicion_ventas# calculo de residuales\n",
    "print(residuales)\n",
    "print(f'Promedio de residuales: {residuales.mean()}')"
   ]
  },
  {
   "cell_type": "code",
   "execution_count": null,
   "metadata": {},
   "outputs": [],
   "source": [
    "#Aleatoriedad\n",
    "\n",
    "plt.figure(figsize=(8, 6))\n",
    "plt.plot(x.iloc[:,1], residuales, color='blue', linestyle='-', marker='o')\n",
    "plt.axhline(y=0, color='red', linestyle='--')  # Línea en y=0 para referencia\n",
    "plt.title('Gráfico de Residuos: Valores Predichos vs Residuos (Línea)')\n",
    "plt.xlabel('Orden de ejecución')\n",
    "plt.ylabel('Residuos')\n",
    "plt.grid(True)\n",
    "plt.legend()\n",
    "\n"
   ]
  },
  {
   "cell_type": "markdown",
   "metadata": {},
   "source": [
    "Dado que no se logra observar un patrón de comportamiento dentro de la gráfica de residuales, se puede concluir gráficamente que los residuos presentan una aleatoriedad para cumplir con el supuesto de aleatoriedad."
   ]
  },
  {
   "cell_type": "markdown",
   "metadata": {},
   "source": [
    "### Normalidad"
   ]
  },
  {
   "cell_type": "code",
   "execution_count": null,
   "metadata": {},
   "outputs": [],
   "source": [
    "#Se uso el supuesto de normalidad mediante el test de Shapiro\n",
    "shapiro(residuales)"
   ]
  },
  {
   "cell_type": "markdown",
   "metadata": {},
   "source": [
    "Dado que el test de Shapiro en los residuales muestra un valor p < alpha bajo la evidencia estadistica, se puede concluir que las variables no se distribuyen de una forma normal bajo un 95% de confianza"
   ]
  },
  {
   "cell_type": "markdown",
   "metadata": {},
   "source": [
    "### Linealidad"
   ]
  },
  {
   "cell_type": "code",
   "execution_count": null,
   "metadata": {},
   "outputs": [],
   "source": [
    "# Linealidad \n",
    "\n",
    "plt.figure(figsize=(8, 6))\n",
    "plt.scatter(predicion_ventas, residuales, color='blue', linestyle='-', marker='o')\n",
    "plt.axhline(y=0, color='red', linestyle='--')  # Línea en y=0 para referencia\n",
    "plt.title('Gráfico de Residuos: Valores Predichos vs Residuos (Línea)')\n",
    "plt.xlabel('Predicción')\n",
    "plt.ylabel('Residuos')\n",
    "plt.grid(True)\n",
    "plt.legend()"
   ]
  },
  {
   "cell_type": "markdown",
   "metadata": {},
   "source": [
    "Adicionalmente, como la gráfica no presenta un comportamiento circular y los valores en mayor proporción se encuentran entre los residuos de 1 y -1 podemos concluir gráficamente que los residuos presentan linealidad para cumplir con el supuesto de linealidad."
   ]
  },
  {
   "cell_type": "markdown",
   "metadata": {},
   "source": [
    "### Varianza"
   ]
  },
  {
   "cell_type": "code",
   "execution_count": null,
   "metadata": {},
   "outputs": [],
   "source": [
    "# Para confirmar si la varianza es constante usamos el test númerico de Levene como:\n",
    "\n",
    "# H0: La varianza es constante\n",
    "# Ha: La varianza no es constante\n",
    "\n",
    "levene(residuales, predicion_ventas)"
   ]
  },
  {
   "cell_type": "markdown",
   "metadata": {},
   "source": [
    "Como valor p del test númerico de Levene < alpha = 0.05 según la evidencia estadistica, rechazamos H0 a favor de la alternativa, por ello se puede concluir que la varianza no es constante con un 95% de confianza"
   ]
  },
  {
   "cell_type": "markdown",
   "metadata": {},
   "source": [
    "### Conclusión\n",
    "Se observa una relación positiva inicial entre la inversión en marketing y las ventas, lo que sugiere un vínculo directo. Sin embargo, el modelo podría estar dejando de lado componentes no lineales. El coeficiente de determinación (R²) revela que una parte significativa de la variabilidad en las ventas no está completamente explicada solo por la inversión en marketing. Al validar los supuestos de la regresión lineal, se concluye que, aunque existe una correlación moderada de 0.5580 entre las variables, no es apropiado modelarlas a través de una regresión lineal. Esto se debe a que, aunque se cumple el supuesto de aleatoriedad y linealidad, se violan los supuestos de normalidad y homocedasticidad (varianza constante), lo que genera que el coeficiente de regresión se vea afectado mostrando la linealidad moderada."
   ]
  }
 ],
 "metadata": {
  "kernelspec": {
   "display_name": "base",
   "language": "python",
   "name": "python3"
  },
  "language_info": {
   "codemirror_mode": {
    "name": "ipython",
    "version": 3
   },
   "file_extension": ".py",
   "mimetype": "text/x-python",
   "name": "python",
   "nbconvert_exporter": "python",
   "pygments_lexer": "ipython3",
   "version": "3.12.5"
  }
 },
 "nbformat": 4,
 "nbformat_minor": 2
}
