{
 "cells": [
  {
   "cell_type": "markdown",
   "metadata": {},
   "source": [
    "El jefe de personal de una agencia gubernamental administró cuatro pruebas de aptitud a cada uno de los 25 aspirantes a cargos administrativos en la agencia. Para el propósito del estudio, se aceptaron a todos los aspirantes para 25 posiciones independiente de sus puntajes en la pruebas. Después de un período de prueba, cada aspirante fue evaluado en su habilidad de trabajo. El puntaje obtenido relativo a la habilidad laboral (Y) y los puntajes en las cuatro pruebas (X1,X2,X3,X4) están consignados en el archivo laboral.csv. Emplee el análisis de regresión lineal múltiple para obtener una ecuación de regresión estimada que sirva para pronosticar la habilidad laboral, dadas las demás variables (Xi).\n",
    "\n",
    "1. Emplee el análisis de regresión lineal múltiple que explique la habilidad laboral en términos de las variables restantes (actuando como predictoras Xi).\n",
    "\n",
    "2. Identifique observaciones que puedan considerarse problemáticas (datos atípicos, puntos de balanceo e influyentes) y analice si debe eliminarlas de su conjunto de datos o no, justifique. Repita la construcción del modelo de regresión si eliminó observaciones.\n",
    "\n",
    "3. Realice la prueba de significancia del modelo, interprete.\n",
    "\n",
    "4. Obtener el coeficiente de determinación y el coeficiente de determinación ajustado. Interprete.\n",
    "\n",
    "5. Analice si hay problemas de multicolinealidad.\n",
    "\n",
    "6. Realice una selección de variables por el método que prefiera, tome decisiones, explique.\n",
    "\n",
    "7. Realice una predicción utilizando el modelo seleccionado, interprete."
   ]
  },
  {
   "cell_type": "code",
   "execution_count": 38,
   "metadata": {},
   "outputs": [
    {
     "ename": "ModuleNotFoundError",
     "evalue": "No module named 'ols'",
     "output_type": "error",
     "traceback": [
      "\u001b[1;31m---------------------------------------------------------------------------\u001b[0m",
      "\u001b[1;31mModuleNotFoundError\u001b[0m                       Traceback (most recent call last)",
      "Cell \u001b[1;32mIn[38], line 11\u001b[0m\n\u001b[0;32m      9\u001b[0m \u001b[38;5;28;01mfrom\u001b[39;00m \u001b[38;5;21;01mstatsmodels\u001b[39;00m\u001b[38;5;21;01m.\u001b[39;00m\u001b[38;5;21;01mstats\u001b[39;00m\u001b[38;5;21;01m.\u001b[39;00m\u001b[38;5;21;01moutliers_influence\u001b[39;00m \u001b[38;5;28;01mimport\u001b[39;00m variance_inflation_factor\n\u001b[0;32m     10\u001b[0m \u001b[38;5;28;01mfrom\u001b[39;00m \u001b[38;5;21;01mstatsmodels\u001b[39;00m\u001b[38;5;21;01m.\u001b[39;00m\u001b[38;5;21;01mstats\u001b[39;00m\u001b[38;5;21;01m.\u001b[39;00m\u001b[38;5;21;01mdiagnostic\u001b[39;00m \u001b[38;5;28;01mimport\u001b[39;00m het_breuschpagan\n\u001b[1;32m---> 11\u001b[0m \u001b[38;5;28;01mimport\u001b[39;00m \u001b[38;5;21;01mstatsmodels\u001b[39;00m\u001b[38;5;21;01m.\u001b[39;00m\u001b[38;5;21;01mformula\u001b[39;00m\u001b[38;5;21;01m.\u001b[39;00m\u001b[38;5;21;01mapi\u001b[39;00m \u001b[38;5;28;01mas\u001b[39;00m \u001b[38;5;21;01msmf\u001b[39;00m\u001b[38;5;241m,\u001b[39m \u001b[38;5;21;01mols\u001b[39;00m\n",
      "\u001b[1;31mModuleNotFoundError\u001b[0m: No module named 'ols'"
     ]
    }
   ],
   "source": [
    "import pandas as pd\n",
    "from scipy.stats import t, norm, shapiro, levene,pearsonr\n",
    "import matplotlib.pyplot as plt\n",
    "import seaborn as sns\n",
    "import numpy as np\n",
    "import statsmodels.api as sm\n",
    "from sklearn.model_selection import train_test_split\n",
    "from statsmodels.tools.eval_measures import rmse\n",
    "from statsmodels.stats.outliers_influence import variance_inflation_factor\n",
    "from statsmodels.stats.diagnostic import het_breuschpagan\n",
    "import statsmodels.formula.api as smf"
   ]
  },
  {
   "cell_type": "code",
   "execution_count": 27,
   "metadata": {},
   "outputs": [],
   "source": [
    "DatosLaboral = pd.read_csv(\"https://raw.githubusercontent.com/JuanJoseNaranjo/Regresion_lineal_multiple/refs/heads/main/laboral.csv\", sep=';')"
   ]
  },
  {
   "cell_type": "markdown",
   "metadata": {},
   "source": [
    "1. Emplee el análisis de regresión lineal múltiple que explique la habilidad laboral en términos de las variables restantes (actuando como predictoras Xi)."
   ]
  },
  {
   "cell_type": "code",
   "execution_count": 28,
   "metadata": {},
   "outputs": [],
   "source": [
    "# Dividiendo los datos\n",
    "X = DatosLaboral.drop(columns='Y')\n",
    "y = DatosLaboral['Y']\n",
    "\n",
    "X_train, X_test, y_train, y_test = train_test_split(\n",
    "                                        X,\n",
    "                                        y.values.reshape(-1,1),\n",
    "                                        train_size   = 0.8,\n",
    "                                        random_state = 1234,\n",
    "                                        shuffle      = True\n",
    "                                    )"
   ]
  },
  {
   "cell_type": "code",
   "execution_count": 29,
   "metadata": {},
   "outputs": [
    {
     "name": "stdout",
     "output_type": "stream",
     "text": [
      "                            OLS Regression Results                            \n",
      "==============================================================================\n",
      "Dep. Variable:                      y   R-squared:                       0.973\n",
      "Model:                            OLS   Adj. R-squared:                  0.965\n",
      "Method:                 Least Squares   F-statistic:                     133.5\n",
      "Date:                Sat, 28 Sep 2024   Prob (F-statistic):           1.56e-11\n",
      "Time:                        17:14:31   Log-Likelihood:                -52.294\n",
      "No. Observations:                  20   AIC:                             114.6\n",
      "Df Residuals:                      15   BIC:                             119.6\n",
      "Df Model:                           4                                         \n",
      "Covariance Type:            nonrobust                                         \n",
      "==============================================================================\n",
      "                 coef    std err          t      P>|t|      [0.025      0.975]\n",
      "------------------------------------------------------------------------------\n",
      "intercept   -122.6274     10.645    -11.520      0.000    -145.317     -99.938\n",
      "X1             0.2936      0.050      5.877      0.000       0.187       0.400\n",
      "X2             0.1015      0.058      1.737      0.103      -0.023       0.226\n",
      "X3             1.2011      0.192      6.253      0.000       0.792       1.610\n",
      "X4             0.5587      0.160      3.494      0.003       0.218       0.900\n",
      "==============================================================================\n",
      "Omnibus:                        2.290   Durbin-Watson:                   2.819\n",
      "Prob(Omnibus):                  0.318   Jarque-Bera (JB):                1.244\n",
      "Skew:                           0.263   Prob(JB):                        0.537\n",
      "Kurtosis:                       1.898   Cond. No.                     2.55e+03\n",
      "==============================================================================\n",
      "\n",
      "Notes:\n",
      "[1] Standard Errors assume that the covariance matrix of the errors is correctly specified.\n",
      "[2] The condition number is large, 2.55e+03. This might indicate that there are\n",
      "strong multicollinearity or other numerical problems.\n"
     ]
    }
   ],
   "source": [
    "# Ajuste del modelo utilizando matrices X, y (similar a scikit-learn)\n",
    "# ==============================================================================\n",
    "# A la matriz de predictores se le tiene que añadir una columna de 1s\n",
    "# para el intercept del modelo\n",
    "X_train = sm.add_constant(X_train, prepend=True).rename(columns={'const':'intercept'})\n",
    "modelo = sm.OLS(endog=y_train, exog=X_train).fit()\n",
    "print(modelo.summary())"
   ]
  },
  {
   "cell_type": "code",
   "execution_count": 36,
   "metadata": {},
   "outputs": [
    {
     "data": {
      "text/plain": [
       "100"
      ]
     },
     "execution_count": 36,
     "metadata": {},
     "output_type": "execute_result"
    }
   ],
   "source": [
    "X_train.size"
   ]
  },
  {
   "cell_type": "code",
   "execution_count": 37,
   "metadata": {},
   "outputs": [
    {
     "data": {
      "text/plain": [
       "(array([0.02159113, 0.04533723, 0.00007334, 0.05943122, 0.04201896,\n",
       "        0.11215388, 0.30632213, 0.17926412, 0.01215114, 0.01806564,\n",
       "        0.00067129, 0.00895584, 0.04140711, 0.13316877, 0.06270667,\n",
       "        0.04565268, 0.03285471, 0.00032961, 0.04224249, 0.21264607]),\n",
       " array([0.99975637, 0.99852767, 1.        , 0.99719661, 0.99877301,\n",
       "        0.98784355, 0.90150943, 0.96618143, 0.99994081, 0.99984268,\n",
       "        0.99999996, 0.99997219, 0.9988155 , 0.9821863 , 0.99681845,\n",
       "        0.99850303, 0.99932231, 0.99999999, 0.99875727, 0.95180045]))"
      ]
     },
     "execution_count": 37,
     "metadata": {},
     "output_type": "execute_result"
    }
   ],
   "source": [
    "# Debemos revisar los valores atipicos del modelo, de tal forma que si existen los identificamos y sustraemos para generar el nuevo modelo\n",
    "# esto lo realizamos con los test Cook, Diffits, hii\n",
    "\n",
    "#obtener la distancia de Cook para cada observación\n",
    "\n",
    "cook = modelo.get_influence().cooks_distance\n",
    "cook"
   ]
  },
  {
   "cell_type": "code",
   "execution_count": 34,
   "metadata": {},
   "outputs": [
    {
     "ename": "ValueError",
     "evalue": "x and y must be the same size",
     "output_type": "error",
     "traceback": [
      "\u001b[1;31m---------------------------------------------------------------------------\u001b[0m",
      "\u001b[1;31mValueError\u001b[0m                                Traceback (most recent call last)",
      "Cell \u001b[1;32mIn[34], line 2\u001b[0m\n\u001b[0;32m      1\u001b[0m plt\u001b[38;5;241m.\u001b[39mfigure(figsize \u001b[38;5;241m=\u001b[39m (\u001b[38;5;241m12\u001b[39m, \u001b[38;5;241m8\u001b[39m))\n\u001b[1;32m----> 2\u001b[0m \u001b[43mplt\u001b[49m\u001b[38;5;241;43m.\u001b[39;49m\u001b[43mscatter\u001b[49m\u001b[43m(\u001b[49m\u001b[43mX_train\u001b[49m\u001b[43m,\u001b[49m\u001b[43m \u001b[49m\u001b[43mcook\u001b[49m\u001b[43m[\u001b[49m\u001b[38;5;241;43m0\u001b[39;49m\u001b[43m]\u001b[49m\u001b[43m)\u001b[49m\n\u001b[0;32m      3\u001b[0m plt\u001b[38;5;241m.\u001b[39mplot(X_train, cook[\u001b[38;5;241m0\u001b[39m], color\u001b[38;5;241m=\u001b[39m\u001b[38;5;124m'\u001b[39m\u001b[38;5;124mblack\u001b[39m\u001b[38;5;124m'\u001b[39m)\n\u001b[0;32m      4\u001b[0m plt\u001b[38;5;241m.\u001b[39mxlabel(\u001b[38;5;124m'\u001b[39m\u001b[38;5;124mRow Number\u001b[39m\u001b[38;5;124m'\u001b[39m, fontsize \u001b[38;5;241m=\u001b[39m \u001b[38;5;241m12\u001b[39m)\n",
      "File \u001b[1;32mc:\\Users\\Usuario\\anaconda3\\envs\\python10\\Lib\\site-packages\\matplotlib\\pyplot.py:3903\u001b[0m, in \u001b[0;36mscatter\u001b[1;34m(x, y, s, c, marker, cmap, norm, vmin, vmax, alpha, linewidths, edgecolors, plotnonfinite, data, **kwargs)\u001b[0m\n\u001b[0;32m   3884\u001b[0m \u001b[38;5;129m@_copy_docstring_and_deprecators\u001b[39m(Axes\u001b[38;5;241m.\u001b[39mscatter)\n\u001b[0;32m   3885\u001b[0m \u001b[38;5;28;01mdef\u001b[39;00m \u001b[38;5;21mscatter\u001b[39m(\n\u001b[0;32m   3886\u001b[0m     x: \u001b[38;5;28mfloat\u001b[39m \u001b[38;5;241m|\u001b[39m ArrayLike,\n\u001b[1;32m   (...)\u001b[0m\n\u001b[0;32m   3901\u001b[0m     \u001b[38;5;241m*\u001b[39m\u001b[38;5;241m*\u001b[39mkwargs,\n\u001b[0;32m   3902\u001b[0m ) \u001b[38;5;241m-\u001b[39m\u001b[38;5;241m>\u001b[39m PathCollection:\n\u001b[1;32m-> 3903\u001b[0m     __ret \u001b[38;5;241m=\u001b[39m \u001b[43mgca\u001b[49m\u001b[43m(\u001b[49m\u001b[43m)\u001b[49m\u001b[38;5;241;43m.\u001b[39;49m\u001b[43mscatter\u001b[49m\u001b[43m(\u001b[49m\n\u001b[0;32m   3904\u001b[0m \u001b[43m        \u001b[49m\u001b[43mx\u001b[49m\u001b[43m,\u001b[49m\n\u001b[0;32m   3905\u001b[0m \u001b[43m        \u001b[49m\u001b[43my\u001b[49m\u001b[43m,\u001b[49m\n\u001b[0;32m   3906\u001b[0m \u001b[43m        \u001b[49m\u001b[43ms\u001b[49m\u001b[38;5;241;43m=\u001b[39;49m\u001b[43ms\u001b[49m\u001b[43m,\u001b[49m\n\u001b[0;32m   3907\u001b[0m \u001b[43m        \u001b[49m\u001b[43mc\u001b[49m\u001b[38;5;241;43m=\u001b[39;49m\u001b[43mc\u001b[49m\u001b[43m,\u001b[49m\n\u001b[0;32m   3908\u001b[0m \u001b[43m        \u001b[49m\u001b[43mmarker\u001b[49m\u001b[38;5;241;43m=\u001b[39;49m\u001b[43mmarker\u001b[49m\u001b[43m,\u001b[49m\n\u001b[0;32m   3909\u001b[0m \u001b[43m        \u001b[49m\u001b[43mcmap\u001b[49m\u001b[38;5;241;43m=\u001b[39;49m\u001b[43mcmap\u001b[49m\u001b[43m,\u001b[49m\n\u001b[0;32m   3910\u001b[0m \u001b[43m        \u001b[49m\u001b[43mnorm\u001b[49m\u001b[38;5;241;43m=\u001b[39;49m\u001b[43mnorm\u001b[49m\u001b[43m,\u001b[49m\n\u001b[0;32m   3911\u001b[0m \u001b[43m        \u001b[49m\u001b[43mvmin\u001b[49m\u001b[38;5;241;43m=\u001b[39;49m\u001b[43mvmin\u001b[49m\u001b[43m,\u001b[49m\n\u001b[0;32m   3912\u001b[0m \u001b[43m        \u001b[49m\u001b[43mvmax\u001b[49m\u001b[38;5;241;43m=\u001b[39;49m\u001b[43mvmax\u001b[49m\u001b[43m,\u001b[49m\n\u001b[0;32m   3913\u001b[0m \u001b[43m        \u001b[49m\u001b[43malpha\u001b[49m\u001b[38;5;241;43m=\u001b[39;49m\u001b[43malpha\u001b[49m\u001b[43m,\u001b[49m\n\u001b[0;32m   3914\u001b[0m \u001b[43m        \u001b[49m\u001b[43mlinewidths\u001b[49m\u001b[38;5;241;43m=\u001b[39;49m\u001b[43mlinewidths\u001b[49m\u001b[43m,\u001b[49m\n\u001b[0;32m   3915\u001b[0m \u001b[43m        \u001b[49m\u001b[43medgecolors\u001b[49m\u001b[38;5;241;43m=\u001b[39;49m\u001b[43medgecolors\u001b[49m\u001b[43m,\u001b[49m\n\u001b[0;32m   3916\u001b[0m \u001b[43m        \u001b[49m\u001b[43mplotnonfinite\u001b[49m\u001b[38;5;241;43m=\u001b[39;49m\u001b[43mplotnonfinite\u001b[49m\u001b[43m,\u001b[49m\n\u001b[0;32m   3917\u001b[0m \u001b[43m        \u001b[49m\u001b[38;5;241;43m*\u001b[39;49m\u001b[38;5;241;43m*\u001b[39;49m\u001b[43m(\u001b[49m\u001b[43m{\u001b[49m\u001b[38;5;124;43m\"\u001b[39;49m\u001b[38;5;124;43mdata\u001b[39;49m\u001b[38;5;124;43m\"\u001b[39;49m\u001b[43m:\u001b[49m\u001b[43m \u001b[49m\u001b[43mdata\u001b[49m\u001b[43m}\u001b[49m\u001b[43m \u001b[49m\u001b[38;5;28;43;01mif\u001b[39;49;00m\u001b[43m \u001b[49m\u001b[43mdata\u001b[49m\u001b[43m \u001b[49m\u001b[38;5;129;43;01mis\u001b[39;49;00m\u001b[43m \u001b[49m\u001b[38;5;129;43;01mnot\u001b[39;49;00m\u001b[43m \u001b[49m\u001b[38;5;28;43;01mNone\u001b[39;49;00m\u001b[43m \u001b[49m\u001b[38;5;28;43;01melse\u001b[39;49;00m\u001b[43m \u001b[49m\u001b[43m{\u001b[49m\u001b[43m}\u001b[49m\u001b[43m)\u001b[49m\u001b[43m,\u001b[49m\n\u001b[0;32m   3918\u001b[0m \u001b[43m        \u001b[49m\u001b[38;5;241;43m*\u001b[39;49m\u001b[38;5;241;43m*\u001b[39;49m\u001b[43mkwargs\u001b[49m\u001b[43m,\u001b[49m\n\u001b[0;32m   3919\u001b[0m \u001b[43m    \u001b[49m\u001b[43m)\u001b[49m\n\u001b[0;32m   3920\u001b[0m     sci(__ret)\n\u001b[0;32m   3921\u001b[0m     \u001b[38;5;28;01mreturn\u001b[39;00m __ret\n",
      "File \u001b[1;32mc:\\Users\\Usuario\\anaconda3\\envs\\python10\\Lib\\site-packages\\matplotlib\\__init__.py:1473\u001b[0m, in \u001b[0;36m_preprocess_data.<locals>.inner\u001b[1;34m(ax, data, *args, **kwargs)\u001b[0m\n\u001b[0;32m   1470\u001b[0m \u001b[38;5;129m@functools\u001b[39m\u001b[38;5;241m.\u001b[39mwraps(func)\n\u001b[0;32m   1471\u001b[0m \u001b[38;5;28;01mdef\u001b[39;00m \u001b[38;5;21minner\u001b[39m(ax, \u001b[38;5;241m*\u001b[39margs, data\u001b[38;5;241m=\u001b[39m\u001b[38;5;28;01mNone\u001b[39;00m, \u001b[38;5;241m*\u001b[39m\u001b[38;5;241m*\u001b[39mkwargs):\n\u001b[0;32m   1472\u001b[0m     \u001b[38;5;28;01mif\u001b[39;00m data \u001b[38;5;129;01mis\u001b[39;00m \u001b[38;5;28;01mNone\u001b[39;00m:\n\u001b[1;32m-> 1473\u001b[0m         \u001b[38;5;28;01mreturn\u001b[39;00m \u001b[43mfunc\u001b[49m\u001b[43m(\u001b[49m\n\u001b[0;32m   1474\u001b[0m \u001b[43m            \u001b[49m\u001b[43max\u001b[49m\u001b[43m,\u001b[49m\n\u001b[0;32m   1475\u001b[0m \u001b[43m            \u001b[49m\u001b[38;5;241;43m*\u001b[39;49m\u001b[38;5;28;43mmap\u001b[39;49m\u001b[43m(\u001b[49m\u001b[43msanitize_sequence\u001b[49m\u001b[43m,\u001b[49m\u001b[43m \u001b[49m\u001b[43margs\u001b[49m\u001b[43m)\u001b[49m\u001b[43m,\u001b[49m\n\u001b[0;32m   1476\u001b[0m \u001b[43m            \u001b[49m\u001b[38;5;241;43m*\u001b[39;49m\u001b[38;5;241;43m*\u001b[39;49m\u001b[43m{\u001b[49m\u001b[43mk\u001b[49m\u001b[43m:\u001b[49m\u001b[43m \u001b[49m\u001b[43msanitize_sequence\u001b[49m\u001b[43m(\u001b[49m\u001b[43mv\u001b[49m\u001b[43m)\u001b[49m\u001b[43m \u001b[49m\u001b[38;5;28;43;01mfor\u001b[39;49;00m\u001b[43m \u001b[49m\u001b[43mk\u001b[49m\u001b[43m,\u001b[49m\u001b[43m \u001b[49m\u001b[43mv\u001b[49m\u001b[43m \u001b[49m\u001b[38;5;129;43;01min\u001b[39;49;00m\u001b[43m \u001b[49m\u001b[43mkwargs\u001b[49m\u001b[38;5;241;43m.\u001b[39;49m\u001b[43mitems\u001b[49m\u001b[43m(\u001b[49m\u001b[43m)\u001b[49m\u001b[43m}\u001b[49m\u001b[43m)\u001b[49m\n\u001b[0;32m   1478\u001b[0m     bound \u001b[38;5;241m=\u001b[39m new_sig\u001b[38;5;241m.\u001b[39mbind(ax, \u001b[38;5;241m*\u001b[39margs, \u001b[38;5;241m*\u001b[39m\u001b[38;5;241m*\u001b[39mkwargs)\n\u001b[0;32m   1479\u001b[0m     auto_label \u001b[38;5;241m=\u001b[39m (bound\u001b[38;5;241m.\u001b[39marguments\u001b[38;5;241m.\u001b[39mget(label_namer)\n\u001b[0;32m   1480\u001b[0m                   \u001b[38;5;129;01mor\u001b[39;00m bound\u001b[38;5;241m.\u001b[39mkwargs\u001b[38;5;241m.\u001b[39mget(label_namer))\n",
      "File \u001b[1;32mc:\\Users\\Usuario\\anaconda3\\envs\\python10\\Lib\\site-packages\\matplotlib\\axes\\_axes.py:4787\u001b[0m, in \u001b[0;36mAxes.scatter\u001b[1;34m(self, x, y, s, c, marker, cmap, norm, vmin, vmax, alpha, linewidths, edgecolors, plotnonfinite, **kwargs)\u001b[0m\n\u001b[0;32m   4785\u001b[0m y \u001b[38;5;241m=\u001b[39m np\u001b[38;5;241m.\u001b[39mma\u001b[38;5;241m.\u001b[39mravel(y)\n\u001b[0;32m   4786\u001b[0m \u001b[38;5;28;01mif\u001b[39;00m x\u001b[38;5;241m.\u001b[39msize \u001b[38;5;241m!=\u001b[39m y\u001b[38;5;241m.\u001b[39msize:\n\u001b[1;32m-> 4787\u001b[0m     \u001b[38;5;28;01mraise\u001b[39;00m \u001b[38;5;167;01mValueError\u001b[39;00m(\u001b[38;5;124m\"\u001b[39m\u001b[38;5;124mx and y must be the same size\u001b[39m\u001b[38;5;124m\"\u001b[39m)\n\u001b[0;32m   4789\u001b[0m \u001b[38;5;28;01mif\u001b[39;00m s \u001b[38;5;129;01mis\u001b[39;00m \u001b[38;5;28;01mNone\u001b[39;00m:\n\u001b[0;32m   4790\u001b[0m     s \u001b[38;5;241m=\u001b[39m (\u001b[38;5;241m20\u001b[39m \u001b[38;5;28;01mif\u001b[39;00m mpl\u001b[38;5;241m.\u001b[39mrcParams[\u001b[38;5;124m'\u001b[39m\u001b[38;5;124m_internal.classic_mode\u001b[39m\u001b[38;5;124m'\u001b[39m] \u001b[38;5;28;01melse\u001b[39;00m\n\u001b[0;32m   4791\u001b[0m          mpl\u001b[38;5;241m.\u001b[39mrcParams[\u001b[38;5;124m'\u001b[39m\u001b[38;5;124mlines.markersize\u001b[39m\u001b[38;5;124m'\u001b[39m] \u001b[38;5;241m*\u001b[39m\u001b[38;5;241m*\u001b[39m \u001b[38;5;241m2.0\u001b[39m)\n",
      "\u001b[1;31mValueError\u001b[0m: x and y must be the same size"
     ]
    },
    {
     "data": {
      "image/png": "[encoded data removed]",
      "text/plain": [
       "<Figure size 1200x800 with 1 Axes>"
      ]
     },
     "metadata": {},
     "output_type": "display_data"
    }
   ],
   "source": [
    "plt.figure(figsize = (12, 8))\n",
    "plt.scatter(X_train, cook[0])\n",
    "plt.plot(X_train, cook[0], color='black')\n",
    "plt.xlabel('Row Number', fontsize = 12)\n",
    "plt.ylabel('Cooks Distance', fontsize = 12)\n",
    "plt.title('Influencial Points', fontsize = 22)\n",
    "plt.show()"
   ]
  },
  {
   "cell_type": "code",
   "execution_count": 6,
   "metadata": {},
   "outputs": [
    {
     "ename": "NameError",
     "evalue": "name 'modelo_final_res' is not defined",
     "output_type": "error",
     "traceback": [
      "\u001b[1;31m---------------------------------------------------------------------------\u001b[0m",
      "\u001b[1;31mNameError\u001b[0m                                 Traceback (most recent call last)",
      "Cell \u001b[1;32mIn[6], line 3\u001b[0m\n\u001b[0;32m      1\u001b[0m \u001b[38;5;66;03m# Residuos del modelo\u001b[39;00m\n\u001b[0;32m      2\u001b[0m \u001b[38;5;66;03m# ==============================================================================\u001b[39;00m\n\u001b[1;32m----> 3\u001b[0m residuos \u001b[38;5;241m=\u001b[39m \u001b[43mmodelo_final_res\u001b[49m\u001b[38;5;241m.\u001b[39mresid\n\u001b[0;32m      5\u001b[0m \u001b[38;5;66;03m# prediciones de entrenamiento\u001b[39;00m\n\u001b[0;32m      6\u001b[0m \u001b[38;5;66;03m# ==============================================================================\u001b[39;00m\n\u001b[0;32m      7\u001b[0m prediccion_train \u001b[38;5;241m=\u001b[39m modelo_final_res\u001b[38;5;241m.\u001b[39mpredict(X_train[predictores])\n",
      "\u001b[1;31mNameError\u001b[0m: name 'modelo_final_res' is not defined"
     ]
    }
   ],
   "source": [
    "# Residuos del modelo\n",
    "# ==============================================================================\n",
    "residuos = modelo_final_res.resid\n",
    "\n",
    "# prediciones de entrenamiento\n",
    "# ==============================================================================\n",
    "prediccion_train = modelo_final_res.predict(X_train[predictores])"
   ]
  },
  {
   "cell_type": "code",
   "execution_count": null,
   "metadata": {},
   "outputs": [],
   "source": [
    "# Gráficos\n",
    "# ==============================================================================\n",
    "fig, axes = plt.subplots(nrows=3, ncols=2, figsize=(9, 8))\n",
    "\n",
    "axes[0, 0].scatter(y_train, prediccion_train, edgecolors=(0, 0, 0), alpha = 0.4)\n",
    "axes[0, 0].plot([y_train.min(), y_train.max()], [y_train.min(), y_train.max()], 'k--', lw=2)\n",
    "axes[0, 0].set_title('Valor predicho vs valor real', fontsize=10)\n",
    "axes[0, 0].set_xlabel('Real')\n",
    "axes[0, 0].set_ylabel('Predicción')\n",
    "axes[0, 0].tick_params(labelsize = 7)\n",
    "\n",
    "axes[0, 1].scatter(list(range(len(y_train))), residuos, edgecolors=(0, 0, 0), alpha=0.4)\n",
    "axes[0, 1].axhline(y=0, linestyle='--', color='black', lw=2)\n",
    "axes[0, 1].set_title('Residuos del modelo', fontsize = 10)\n",
    "axes[0, 1].set_xlabel('id')\n",
    "axes[0, 1].set_ylabel('Residuo')\n",
    "axes[0, 1].tick_params(labelsize = 7)\n",
    "\n",
    "sns.histplot(\n",
    "    data     = residuos,\n",
    "    stat     = \"density\",\n",
    "    kde      = True,\n",
    "    line_kws = {'linewidth': 1},\n",
    "    color    = \"firebrick\",\n",
    "    alpha    = 0.3,\n",
    "    ax       = axes[1, 0]\n",
    ")\n",
    "\n",
    "axes[1, 0].set_title('Distribución residuos del modelo', fontsize=10)\n",
    "axes[1, 0].set_xlabel(\"Residuo\")\n",
    "axes[1, 0].tick_params(labelsize = 7)\n",
    "\n",
    "sm.qqplot(\n",
    "    residuos,\n",
    "    fit   = True,\n",
    "    line  = 'q',\n",
    "    ax    = axes[1, 1],\n",
    "    color = 'firebrick',\n",
    "    alpha = 0.4,\n",
    "    lw    = 2\n",
    ")\n",
    "axes[1, 1].set_title('Q-Q residuos del modelo', fontsize=10)\n",
    "axes[1, 1].tick_params(labelsize=7)\n",
    "\n",
    "axes[2, 0].scatter(prediccion_train, residuos, edgecolors=(0, 0, 0), alpha=0.4)\n",
    "axes[2, 0].axhline(y=0, linestyle='--', color='black', lw=2)\n",
    "axes[2, 0].set_title('Residuos del modelo vs predicción', fontsize=10)\n",
    "axes[2, 0].set_xlabel('Predicción')\n",
    "axes[2, 0].set_ylabel('Residuo')\n",
    "axes[2, 0].tick_params(labelsize=7)\n",
    "\n",
    "# Se eliminan los axes vacíos\n",
    "fig.delaxes(axes[2,1])\n",
    "\n",
    "fig.tight_layout()\n",
    "plt.subplots_adjust(top=0.9)\n",
    "fig.suptitle('Diagnóstico residuos', fontsize=12)"
   ]
  },
  {
   "cell_type": "markdown",
   "metadata": {},
   "source": [
    "Test de supuestos"
   ]
  },
  {
   "cell_type": "code",
   "execution_count": null,
   "metadata": {},
   "outputs": [],
   "source": [
    "# Normalidad de los residuos Shapiro-Wilk test\n",
    "# ==============================================================================\n",
    "shapiro_test = stats.shapiro(residuos)\n",
    "print(f\"Test Shapiro-Wilk: estadístico = {shapiro_test[0]}, p-value = {shapiro_test[1]}\")\n",
    "\n",
    "# Normalidad de los residuos D'Agostino's K-squared test\n",
    "# ==============================================================================\n",
    "k2, p_value = stats.normaltest(residuos)\n",
    "print(f\"Test D'Agostino's K-squared: estadístico = {k2}, p-value = {p_value}\")"
   ]
  },
  {
   "cell_type": "code",
   "execution_count": null,
   "metadata": {},
   "outputs": [],
   "source": [
    "# Varianza Constante\n",
    "# Prueba de Breusch-Pagan\n",
    "# ==============================================================================\n",
    "lm, lm_p_value, fvalue, f_p_value = het_breuschpagan(residuos, X_train[predictores])\n",
    "print(f\"Estadítico= {fvalue}, p-value = {f_p_value}\")"
   ]
  },
  {
   "cell_type": "code",
   "execution_count": null,
   "metadata": {},
   "outputs": [],
   "source": [
    "# Multicolinealidad (Inflación de varianza VIF)\n",
    "# Correlación entre predictores numéricos\n",
    "# ==============================================================================\n",
    "corr_matrix = X_train[predictores].corr(method='pearson')\n",
    "tril = np.tril(np.ones(corr_matrix.shape)).astype(bool)\n",
    "corr_matrix[tril] = np.nan\n",
    "corr_matrix_tidy = corr_matrix.stack().reset_index(name='r')\n",
    "corr_matrix_tidy = corr_matrix_tidy.rename(columns={'level_0': 'variable_1', 'level_1': 'variable_2'})\n",
    "corr_matrix_tidy = corr_matrix_tidy.dropna()\n",
    "corr_matrix_tidy['r_abs'] = corr_matrix_tidy['r'].abs()\n",
    "corr_matrix_tidy = corr_matrix_tidy.sort_values('r_abs', ascending=False).reset_index(drop=True)\n",
    "corr_matrix_tidy"
   ]
  },
  {
   "cell_type": "code",
   "execution_count": null,
   "metadata": {},
   "outputs": [],
   "source": [
    "# Cálculo del VIF\n",
    "# ==============================================================================\n",
    "vif = pd.DataFrame()\n",
    "vif[\"variables\"] = X_train[predictores].columns\n",
    "vif[\"VIF\"] = [variance_inflation_factor(X_train[predictores].values, i) for i in range(X_train[predictores].shape[1])]\n",
    "vif\n",
    "\n",
    "#VIF son factores de inflación de varianza, podemos medir multicolinealidad con ellos según las reglas VIF"
   ]
  },
  {
   "cell_type": "markdown",
   "metadata": {},
   "source": [
    "Predicciones"
   ]
  },
  {
   "cell_type": "code",
   "execution_count": null,
   "metadata": {},
   "outputs": [],
   "source": [
    "# Prediciones del conjunto de test\n",
    "# ==============================================================================\n",
    "X_test = sm.add_constant(X_test, prepend=True).rename(columns={'const':'intercept'})\n",
    "modelo_final_res.predict(X_test[predictores])"
   ]
  },
  {
   "cell_type": "code",
   "execution_count": null,
   "metadata": {},
   "outputs": [],
   "source": [
    "# Predicciones con intervalo de confianza\n",
    "# ==============================================================================\n",
    "# La columna mean contiene la media de la predicción\n",
    "predicciones = modelo_final_res.get_prediction(exog = X_test[predictores]).summary_frame(alpha=0.05)\n",
    "predicciones"
   ]
  },
  {
   "cell_type": "code",
   "execution_count": null,
   "metadata": {},
   "outputs": [],
   "source": [
    "# Error de test del modelo\n",
    "# ==============================================================================\n",
    "error = rmse(y_test.flatten(), predicciones['mean'])\n",
    "print(f\"El error (rmse) de test es: {error}\")"
   ]
  },
  {
   "cell_type": "code",
   "execution_count": null,
   "metadata": {},
   "outputs": [],
   "source": [
    "# Correlación lineal entre variables numéricas\n",
    "# ==============================================================================\n",
    "corr_matrix = datos.corr(method='pearson')\n",
    "tril = np.tril(np.ones(corr_matrix.shape)).astype(bool)\n",
    "corr_matrix[tril] = np.nan\n",
    "corr_matrix_tidy = corr_matrix.stack().reset_index(name='r')\n",
    "corr_matrix_tidy = corr_matrix_tidy.rename(columns={'level_0': 'variable_1', 'level_1': 'variable_2'})\n",
    "corr_matrix_tidy = corr_matrix_tidy.dropna()\n",
    "corr_matrix_tidy['r_abs'] = corr_matrix_tidy['r'].abs()\n",
    "corr_matrix_tidy = corr_matrix_tidy.sort_values('r_abs', ascending=False).reset_index(drop=True)\n",
    "corr_matrix_tidy"
   ]
  },
  {
   "cell_type": "markdown",
   "metadata": {},
   "source": [
    "3 - Analice si hay una relación lineal entre las variables inversión en Marketing y ventas, mediante una regresión lineal con todos sus repectivos componentes.\n",
    "\n",
    "Formula Utilizada:\n",
    "\n",
    "y = β0+β1 * x\n",
    "\n",
    "x= variable independiente\n",
    "\n",
    "y= dependiente ventas\n",
    "\n",
    "β0= intercepto\n",
    "\n",
    "β1=pendiente midiendo el cambio en y\n",
    "\n",
    "\n"
   ]
  },
  {
   "cell_type": "code",
   "execution_count": 7,
   "metadata": {},
   "outputs": [],
   "source": [
    "x=sm.add_constant(x) # Añadimos la constante\n",
    "\n",
    "modelo_lineal=sm.OLS(y,x).fit() # Ajustamos el modelo\n",
    "resumen_modelo=modelo_lineal.summary() # Resumen del modelo\n",
    "#print(resumen_modelo)\n"
   ]
  },
  {
   "cell_type": "code",
   "execution_count": null,
   "metadata": {},
   "outputs": [],
   "source": [
    "\n",
    "\n",
    "intercepcion=modelo_lineal.params.iloc[0] # Valor de la intercepción\n",
    "pendiente=modelo_lineal.params.iloc[1] # Valor de la pendiente\n",
    "coeficiente_determinacion=modelo_lineal.rsquared # Coeficiente de determinación\n",
    "valor_p=modelo_lineal.pvalues.iloc[1]  # Valor p para la pendiente\n",
    "\n",
    "\n",
    "\n",
    "print(f'Intercepción (β0): {intercepcion}')\n",
    "print(f'Pendiente (β1): {pendiente}')\n",
    "print(f'Coeficiente de determinación (R²): {coeficiente_determinacion}')\n",
    "print(f'Valor p para la pendiente: {valor_p}')\n",
    "print(resumen_modelo)\n",
    "\n",
    "\n"
   ]
  },
  {
   "cell_type": "code",
   "execution_count": null,
   "metadata": {},
   "outputs": [],
   "source": [
    "predicion_ventas= modelo_lineal.predict(x) # Predicción de ventas\n",
    "# Graficar la línea de regresión con los datos reales\n",
    "plt.figure(figsize=(8, 6))\n",
    "\n",
    "# Gráfico de dispersión de las ventas reales vs inversión\n",
    "plt.scatter(DatosMd['Inversión en marketing digital'], DatosMd['Venta'], color='green', label='Datos')\n",
    "\n",
    "# Graficar la línea de regresión\n",
    "plt.plot(DatosMd['Inversión en marketing digital'], predicion_ventas, color='red', label='Regresión Lineal')\n",
    "\n",
    "# Añadir etiquetas y título\n",
    "plt.title('Regresión Lineal: Inversión en Marketing vs Ventas')\n",
    "plt.xlabel('Inversión en Marketing Digital (COP)')\n",
    "plt.ylabel('Ventas (COP)')\n",
    "plt.legend()\n",
    "plt.grid(True)"
   ]
  },
  {
   "cell_type": "markdown",
   "metadata": {},
   "source": [
    "En conclusion podriamos indicar que existe una relación medianamente positiva y significativa entre la inversión en marketing digital y las ventas.La línea roja muestra cómo se predicen las ventas en función de la inversión en marketing (datos en verde), observando el valor de la pendiente nos confirma la realacion entre estas variables.\n",
    "\n",
    "Otro punto importante analizar es el coeficiente de determinacion que esta en un 0.5580 de la variablidad en ventas puede explicarse por la inversion en marketing."
   ]
  },
  {
   "cell_type": "markdown",
   "metadata": {},
   "source": [
    "### Validando los supuestos del modelo de regresion lineal"
   ]
  },
  {
   "cell_type": "markdown",
   "metadata": {},
   "source": [
    "### Aleatoriedad"
   ]
  },
  {
   "cell_type": "code",
   "execution_count": null,
   "metadata": {},
   "outputs": [],
   "source": [
    "# Calculo de error (residuales)\n",
    "\n",
    "residuales= y - predicion_ventas# calculo de residuales\n",
    "print(residuales)\n",
    "print(f'Promedio de residuales: {residuales.mean()}')"
   ]
  },
  {
   "cell_type": "code",
   "execution_count": null,
   "metadata": {},
   "outputs": [],
   "source": [
    "#Aleatoriedad\n",
    "\n",
    "plt.figure(figsize=(8, 6))\n",
    "plt.plot(x.iloc[:,1], residuales, color='blue', linestyle='-', marker='o')\n",
    "plt.axhline(y=0, color='red', linestyle='--')  # Línea en y=0 para referencia\n",
    "plt.title('Gráfico de Residuos: Valores Predichos vs Residuos (Línea)')\n",
    "plt.xlabel('Orden de ejecución')\n",
    "plt.ylabel('Residuos')\n",
    "plt.grid(True)\n",
    "plt.legend()\n",
    "\n"
   ]
  },
  {
   "cell_type": "markdown",
   "metadata": {},
   "source": [
    "Dado que no se logra observar un patrón de comportamiento dentro de la gráfica de residuales, se puede concluir gráficamente que los residuos presentan una aleatoriedad para cumplir con el supuesto de aleatoriedad."
   ]
  },
  {
   "cell_type": "markdown",
   "metadata": {},
   "source": [
    "### Normalidad"
   ]
  },
  {
   "cell_type": "code",
   "execution_count": null,
   "metadata": {},
   "outputs": [],
   "source": [
    "#Se uso el supuesto de normalidad mediante el test de Shapiro\n",
    "shapiro(residuales)"
   ]
  },
  {
   "cell_type": "markdown",
   "metadata": {},
   "source": [
    "Dado que el test de Shapiro en los residuales muestra un valor p < alpha bajo la evidencia estadistica, se puede concluir que las variables no se distribuyen de una forma normal bajo un 95% de confianza"
   ]
  },
  {
   "cell_type": "markdown",
   "metadata": {},
   "source": [
    "### Linealidad"
   ]
  },
  {
   "cell_type": "code",
   "execution_count": null,
   "metadata": {},
   "outputs": [],
   "source": [
    "# Linealidad \n",
    "\n",
    "plt.figure(figsize=(8, 6))\n",
    "plt.scatter(predicion_ventas, residuales, color='blue', linestyle='-', marker='o')\n",
    "plt.axhline(y=0, color='red', linestyle='--')  # Línea en y=0 para referencia\n",
    "plt.title('Gráfico de Residuos: Valores Predichos vs Residuos (Línea)')\n",
    "plt.xlabel('Predicción')\n",
    "plt.ylabel('Residuos')\n",
    "plt.grid(True)\n",
    "plt.legend()"
   ]
  },
  {
   "cell_type": "markdown",
   "metadata": {},
   "source": [
    "Adicionalmente, como la gráfica no presenta un comportamiento circular y los valores en mayor proporción se encuentran entre los residuos de 1 y -1 podemos concluir gráficamente que los residuos presentan linealidad para cumplir con el supuesto de linealidad."
   ]
  },
  {
   "cell_type": "markdown",
   "metadata": {},
   "source": [
    "### Varianza"
   ]
  },
  {
   "cell_type": "code",
   "execution_count": null,
   "metadata": {},
   "outputs": [],
   "source": [
    "# Para confirmar si la varianza es constante usamos el test númerico de Levene como:\n",
    "\n",
    "# H0: La varianza es constante\n",
    "# Ha: La varianza no es constante\n",
    "\n",
    "levene(residuales, predicion_ventas)"
   ]
  },
  {
   "cell_type": "markdown",
   "metadata": {},
   "source": [
    "Como valor p del test númerico de Levene < alpha = 0.05 según la evidencia estadistica, rechazamos H0 a favor de la alternativa, por ello se puede concluir que la varianza no es constante con un 95% de confianza"
   ]
  },
  {
   "cell_type": "markdown",
   "metadata": {},
   "source": [
    "### Conclusión\n",
    "Se observa una relación positiva inicial entre la inversión en marketing y las ventas, lo que sugiere un vínculo directo. Sin embargo, el modelo podría estar dejando de lado componentes no lineales. El coeficiente de determinación (R²) revela que una parte significativa de la variabilidad en las ventas no está completamente explicada solo por la inversión en marketing. Al validar los supuestos de la regresión lineal, se concluye que, aunque existe una correlación moderada de 0.5580 entre las variables, no es apropiado modelarlas a través de una regresión lineal. Esto se debe a que, aunque se cumple el supuesto de aleatoriedad y linealidad, se violan los supuestos de normalidad y homocedasticidad (varianza constante), lo que genera que el coeficiente de regresión se vea afectado mostrando la linealidad moderada."
   ]
  }
 ],
 "metadata": {
  "kernelspec": {
   "display_name": "base",
   "language": "python",
   "name": "python3"
  },
  "language_info": {
   "codemirror_mode": {
    "name": "ipython",
    "version": 3
   },
   "file_extension": ".py",
   "mimetype": "text/x-python",
   "name": "python",
   "nbconvert_exporter": "python",
   "pygments_lexer": "ipython3",
   "version": "3.12.5"
  }
 },
 "nbformat": 4,
 "nbformat_minor": 2
}
