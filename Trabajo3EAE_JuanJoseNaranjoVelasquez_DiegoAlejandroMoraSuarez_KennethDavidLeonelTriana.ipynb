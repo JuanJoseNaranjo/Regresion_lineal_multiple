{
 "cells": [
  {
   "cell_type": "markdown",
   "metadata": {},
   "source": [
    "El jefe de personal de una agencia gubernamental administró cuatro pruebas de aptitud a cada uno de los 25 aspirantes a cargos administrativos en la agencia. Para el propósito del estudio, se aceptaron a todos los aspirantes para 25 posiciones independiente de sus puntajes en la pruebas. Después de un período de prueba, cada aspirante fue evaluado en su habilidad de trabajo. El puntaje obtenido relativo a la habilidad laboral (Y) y los puntajes en las cuatro pruebas (X1,X2,X3,X4) están consignados en el archivo laboral.csv. Emplee el análisis de regresión lineal múltiple para obtener una ecuación de regresión estimada que sirva para pronosticar la habilidad laboral, dadas las demás variables (Xi).\n",
    "\n",
    "1. Emplee el análisis de regresión lineal múltiple que explique la habilidad laboral en términos de las variables restantes (actuando como predictoras Xi).\n",
    "\n",
    "2. Identifique observaciones que puedan considerarse problemáticas (datos atípicos, puntos de balanceo e influyentes) y analice si debe eliminarlas de su conjunto de datos o no, justifique. Repita la construcción del modelo de regresión si eliminó observaciones.\n",
    "\n",
    "3. Realice la prueba de significancia del modelo, interprete.\n",
    "\n",
    "4. Obtener el coeficiente de determinación y el coeficiente de determinación ajustado. Interprete.\n",
    "\n",
    "5. Analice si hay problemas de multicolinealidad.\n",
    "\n",
    "6. Realice una selección de variables por el método que prefiera, tome decisiones, explique.\n",
    "\n",
    "7. Realice una predicción utilizando el modelo seleccionado, interprete."
   ]
  },
  {
   "cell_type": "code",
   "execution_count": 2,
   "metadata": {},
   "outputs": [
    {
     "name": "stderr",
     "output_type": "stream",
     "text": [
      "d:\\programasProgramacion\\anaconda\\Lib\\site-packages\\pandas\\core\\arrays\\masked.py:60: UserWarning: Pandas requires version '1.3.6' or newer of 'bottleneck' (version '1.3.5' currently installed).\n",
      "  from pandas.core import (\n"
     ]
    }
   ],
   "source": [
    "import pandas as pd\n",
    "from scipy.stats import t, norm, shapiro, levene,pearsonr\n",
    "import matplotlib.pyplot as plt\n",
    "import seaborn as sns\n",
    "import numpy as np\n",
    "import statsmodels.api as sm\n",
    "from sklearn.model_selection import train_test_split\n",
    "from statsmodels.tools.eval_measures import rmse\n",
    "from statsmodels.stats.outliers_influence import variance_inflation_factor\n",
    "from statsmodels.stats.diagnostic import het_breuschpagan\n",
    "import statsmodels.formula.api as smf\n",
    "from statsmodels.formula.api import ols"
   ]
  },
  {
   "cell_type": "code",
   "execution_count": 3,
   "metadata": {},
   "outputs": [],
   "source": [
    "DatosLaboral = pd.read_csv(\"https://raw.githubusercontent.com/JuanJoseNaranjo/Regresion_lineal_multiple/refs/heads/main/laboral.csv\", sep=';')"
   ]
  },
  {
   "cell_type": "code",
   "execution_count": 4,
   "metadata": {},
   "outputs": [
    {
     "data": {
      "text/html": [
       "<div>\n",
       "<style scoped>\n",
       "    .dataframe tbody tr th:only-of-type {\n",
       "        vertical-align: middle;\n",
       "    }\n",
       "\n",
       "    .dataframe tbody tr th {\n",
       "        vertical-align: top;\n",
       "    }\n",
       "\n",
       "    .dataframe thead th {\n",
       "        text-align: right;\n",
       "    }\n",
       "</style>\n",
       "<table border=\"1\" class=\"dataframe\">\n",
       "  <thead>\n",
       "    <tr style=\"text-align: right;\">\n",
       "      <th></th>\n",
       "      <th>Y</th>\n",
       "      <th>X1</th>\n",
       "      <th>X2</th>\n",
       "      <th>X3</th>\n",
       "      <th>X4</th>\n",
       "    </tr>\n",
       "  </thead>\n",
       "  <tbody>\n",
       "    <tr>\n",
       "      <th>0</th>\n",
       "      <td>88</td>\n",
       "      <td>86</td>\n",
       "      <td>110</td>\n",
       "      <td>100</td>\n",
       "      <td>87</td>\n",
       "    </tr>\n",
       "    <tr>\n",
       "      <th>1</th>\n",
       "      <td>80</td>\n",
       "      <td>62</td>\n",
       "      <td>97</td>\n",
       "      <td>99</td>\n",
       "      <td>100</td>\n",
       "    </tr>\n",
       "    <tr>\n",
       "      <th>2</th>\n",
       "      <td>96</td>\n",
       "      <td>110</td>\n",
       "      <td>107</td>\n",
       "      <td>103</td>\n",
       "      <td>103</td>\n",
       "    </tr>\n",
       "    <tr>\n",
       "      <th>3</th>\n",
       "      <td>76</td>\n",
       "      <td>101</td>\n",
       "      <td>117</td>\n",
       "      <td>93</td>\n",
       "      <td>95</td>\n",
       "    </tr>\n",
       "    <tr>\n",
       "      <th>4</th>\n",
       "      <td>80</td>\n",
       "      <td>100</td>\n",
       "      <td>101</td>\n",
       "      <td>95</td>\n",
       "      <td>88</td>\n",
       "    </tr>\n",
       "    <tr>\n",
       "      <th>5</th>\n",
       "      <td>73</td>\n",
       "      <td>78</td>\n",
       "      <td>85</td>\n",
       "      <td>95</td>\n",
       "      <td>84</td>\n",
       "    </tr>\n",
       "    <tr>\n",
       "      <th>6</th>\n",
       "      <td>58</td>\n",
       "      <td>120</td>\n",
       "      <td>77</td>\n",
       "      <td>80</td>\n",
       "      <td>74</td>\n",
       "    </tr>\n",
       "    <tr>\n",
       "      <th>7</th>\n",
       "      <td>116</td>\n",
       "      <td>105</td>\n",
       "      <td>122</td>\n",
       "      <td>116</td>\n",
       "      <td>102</td>\n",
       "    </tr>\n",
       "    <tr>\n",
       "      <th>8</th>\n",
       "      <td>104</td>\n",
       "      <td>112</td>\n",
       "      <td>119</td>\n",
       "      <td>106</td>\n",
       "      <td>105</td>\n",
       "    </tr>\n",
       "    <tr>\n",
       "      <th>9</th>\n",
       "      <td>99</td>\n",
       "      <td>120</td>\n",
       "      <td>89</td>\n",
       "      <td>105</td>\n",
       "      <td>97</td>\n",
       "    </tr>\n",
       "    <tr>\n",
       "      <th>10</th>\n",
       "      <td>64</td>\n",
       "      <td>87</td>\n",
       "      <td>81</td>\n",
       "      <td>90</td>\n",
       "      <td>88</td>\n",
       "    </tr>\n",
       "    <tr>\n",
       "      <th>11</th>\n",
       "      <td>126</td>\n",
       "      <td>133</td>\n",
       "      <td>120</td>\n",
       "      <td>113</td>\n",
       "      <td>108</td>\n",
       "    </tr>\n",
       "    <tr>\n",
       "      <th>12</th>\n",
       "      <td>94</td>\n",
       "      <td>140</td>\n",
       "      <td>121</td>\n",
       "      <td>96</td>\n",
       "      <td>89</td>\n",
       "    </tr>\n",
       "    <tr>\n",
       "      <th>13</th>\n",
       "      <td>71</td>\n",
       "      <td>84</td>\n",
       "      <td>113</td>\n",
       "      <td>98</td>\n",
       "      <td>78</td>\n",
       "    </tr>\n",
       "    <tr>\n",
       "      <th>14</th>\n",
       "      <td>111</td>\n",
       "      <td>106</td>\n",
       "      <td>102</td>\n",
       "      <td>109</td>\n",
       "      <td>109</td>\n",
       "    </tr>\n",
       "    <tr>\n",
       "      <th>15</th>\n",
       "      <td>109</td>\n",
       "      <td>109</td>\n",
       "      <td>129</td>\n",
       "      <td>102</td>\n",
       "      <td>108</td>\n",
       "    </tr>\n",
       "    <tr>\n",
       "      <th>16</th>\n",
       "      <td>100</td>\n",
       "      <td>104</td>\n",
       "      <td>83</td>\n",
       "      <td>100</td>\n",
       "      <td>102</td>\n",
       "    </tr>\n",
       "    <tr>\n",
       "      <th>17</th>\n",
       "      <td>127</td>\n",
       "      <td>150</td>\n",
       "      <td>118</td>\n",
       "      <td>107</td>\n",
       "      <td>110</td>\n",
       "    </tr>\n",
       "    <tr>\n",
       "      <th>18</th>\n",
       "      <td>99</td>\n",
       "      <td>98</td>\n",
       "      <td>125</td>\n",
       "      <td>108</td>\n",
       "      <td>95</td>\n",
       "    </tr>\n",
       "    <tr>\n",
       "      <th>19</th>\n",
       "      <td>82</td>\n",
       "      <td>120</td>\n",
       "      <td>94</td>\n",
       "      <td>95</td>\n",
       "      <td>90</td>\n",
       "    </tr>\n",
       "    <tr>\n",
       "      <th>20</th>\n",
       "      <td>67</td>\n",
       "      <td>74</td>\n",
       "      <td>121</td>\n",
       "      <td>91</td>\n",
       "      <td>85</td>\n",
       "    </tr>\n",
       "    <tr>\n",
       "      <th>21</th>\n",
       "      <td>109</td>\n",
       "      <td>96</td>\n",
       "      <td>114</td>\n",
       "      <td>114</td>\n",
       "      <td>103</td>\n",
       "    </tr>\n",
       "    <tr>\n",
       "      <th>22</th>\n",
       "      <td>78</td>\n",
       "      <td>104</td>\n",
       "      <td>73</td>\n",
       "      <td>93</td>\n",
       "      <td>80</td>\n",
       "    </tr>\n",
       "    <tr>\n",
       "      <th>23</th>\n",
       "      <td>115</td>\n",
       "      <td>94</td>\n",
       "      <td>121</td>\n",
       "      <td>115</td>\n",
       "      <td>104</td>\n",
       "    </tr>\n",
       "    <tr>\n",
       "      <th>24</th>\n",
       "      <td>83</td>\n",
       "      <td>91</td>\n",
       "      <td>129</td>\n",
       "      <td>97</td>\n",
       "      <td>83</td>\n",
       "    </tr>\n",
       "  </tbody>\n",
       "</table>\n",
       "</div>"
      ],
      "text/plain": [
       "      Y   X1   X2   X3   X4\n",
       "0    88   86  110  100   87\n",
       "1    80   62   97   99  100\n",
       "2    96  110  107  103  103\n",
       "3    76  101  117   93   95\n",
       "4    80  100  101   95   88\n",
       "5    73   78   85   95   84\n",
       "6    58  120   77   80   74\n",
       "7   116  105  122  116  102\n",
       "8   104  112  119  106  105\n",
       "9    99  120   89  105   97\n",
       "10   64   87   81   90   88\n",
       "11  126  133  120  113  108\n",
       "12   94  140  121   96   89\n",
       "13   71   84  113   98   78\n",
       "14  111  106  102  109  109\n",
       "15  109  109  129  102  108\n",
       "16  100  104   83  100  102\n",
       "17  127  150  118  107  110\n",
       "18   99   98  125  108   95\n",
       "19   82  120   94   95   90\n",
       "20   67   74  121   91   85\n",
       "21  109   96  114  114  103\n",
       "22   78  104   73   93   80\n",
       "23  115   94  121  115  104\n",
       "24   83   91  129   97   83"
      ]
     },
     "execution_count": 4,
     "metadata": {},
     "output_type": "execute_result"
    }
   ],
   "source": [
    "DatosLaboral"
   ]
  },
  {
   "cell_type": "markdown",
   "metadata": {},
   "source": [
    "1. Emplee el análisis de regresión lineal múltiple que explique la habilidad laboral en términos de las variables restantes (actuando como predictoras Xi)."
   ]
  },
  {
   "cell_type": "code",
   "execution_count": 5,
   "metadata": {},
   "outputs": [],
   "source": [
    "# Dividiendo los datos\n",
    "x = DatosLaboral.drop(columns='Y')\n",
    "y = DatosLaboral['Y']\n"
   ]
  },
  {
   "cell_type": "code",
   "execution_count": 6,
   "metadata": {},
   "outputs": [],
   "source": [
    "x_train, x_test, y_train, y_test = train_test_split(\n",
    "                                        x,\n",
    "                                        y.values.reshape(-1,1),\n",
    "                                        train_size   = 0.8,\n",
    "                                        random_state = 1234,\n",
    "                                        shuffle      = True\n",
    "                                    )"
   ]
  },
  {
   "cell_type": "code",
   "execution_count": 7,
   "metadata": {},
   "outputs": [],
   "source": [
    "# Ajuste del modelo utilizando matrices X, y (similar a scikit-learn)\n",
    "# ==============================================================================\n",
    "# A la matriz de predictores se le tiene que añadir una columna de 1s\n",
    "# para el intercept del modelo\n",
    "\n",
    "x = sm.add_constant(x) # Es el intercepto\n",
    "modelo = sm.OLS(y,x).fit()\n",
    "\n",
    "# x_train = sm.add_constant(x_train, prepend=True).rename(columns={'const':'intercept'})\n",
    "# modelo = sm.OLS(endog=y_train, exog=x_train).fit()\n",
    "# print(modelo.summary())"
   ]
  },
  {
   "cell_type": "code",
   "execution_count": 14,
   "metadata": {},
   "outputs": [
    {
     "data": {
      "text/html": [
       "<div>\n",
       "<style scoped>\n",
       "    .dataframe tbody tr th:only-of-type {\n",
       "        vertical-align: middle;\n",
       "    }\n",
       "\n",
       "    .dataframe tbody tr th {\n",
       "        vertical-align: top;\n",
       "    }\n",
       "\n",
       "    .dataframe thead th {\n",
       "        text-align: right;\n",
       "    }\n",
       "</style>\n",
       "<table border=\"1\" class=\"dataframe\">\n",
       "  <thead>\n",
       "    <tr style=\"text-align: right;\">\n",
       "      <th></th>\n",
       "      <th>dfb_const</th>\n",
       "      <th>dfb_X1</th>\n",
       "      <th>dfb_X2</th>\n",
       "      <th>dfb_X3</th>\n",
       "      <th>dfb_X4</th>\n",
       "      <th>cooks_d</th>\n",
       "      <th>standard_resid</th>\n",
       "      <th>hat_diag</th>\n",
       "      <th>dffits_internal</th>\n",
       "      <th>student_resid</th>\n",
       "      <th>dffits</th>\n",
       "    </tr>\n",
       "  </thead>\n",
       "  <tbody>\n",
       "    <tr>\n",
       "      <th>0</th>\n",
       "      <td>0.103846</td>\n",
       "      <td>-0.189654</td>\n",
       "      <td>0.089298</td>\n",
       "      <td>0.178584</td>\n",
       "      <td>-0.271852</td>\n",
       "      <td>0.050732</td>\n",
       "      <td>1.496313</td>\n",
       "      <td>0.101765</td>\n",
       "      <td>0.503648</td>\n",
       "      <td>1.547623</td>\n",
       "      <td>0.520919</td>\n",
       "    </tr>\n",
       "    <tr>\n",
       "      <th>1</th>\n",
       "      <td>0.006218</td>\n",
       "      <td>-0.015830</td>\n",
       "      <td>-0.003065</td>\n",
       "      <td>-0.006414</td>\n",
       "      <td>0.011200</td>\n",
       "      <td>0.000073</td>\n",
       "      <td>0.026037</td>\n",
       "      <td>0.351478</td>\n",
       "      <td>0.019168</td>\n",
       "      <td>0.025378</td>\n",
       "      <td>0.018683</td>\n",
       "    </tr>\n",
       "    <tr>\n",
       "      <th>2</th>\n",
       "      <td>0.045091</td>\n",
       "      <td>-0.001547</td>\n",
       "      <td>0.034485</td>\n",
       "      <td>0.146708</td>\n",
       "      <td>-0.265395</td>\n",
       "      <td>0.032440</td>\n",
       "      <td>-1.367190</td>\n",
       "      <td>0.079846</td>\n",
       "      <td>-0.402741</td>\n",
       "      <td>-1.399579</td>\n",
       "      <td>-0.412282</td>\n",
       "    </tr>\n",
       "    <tr>\n",
       "      <th>3</th>\n",
       "      <td>-0.384668</td>\n",
       "      <td>0.132049</td>\n",
       "      <td>-0.487684</td>\n",
       "      <td>0.712808</td>\n",
       "      <td>-0.474809</td>\n",
       "      <td>0.130699</td>\n",
       "      <td>-1.628359</td>\n",
       "      <td>0.197726</td>\n",
       "      <td>-0.808390</td>\n",
       "      <td>-1.704107</td>\n",
       "      <td>-0.845994</td>\n",
       "    </tr>\n",
       "    <tr>\n",
       "      <th>4</th>\n",
       "      <td>0.004261</td>\n",
       "      <td>0.000044</td>\n",
       "      <td>0.000045</td>\n",
       "      <td>-0.001495</td>\n",
       "      <td>-0.001061</td>\n",
       "      <td>0.000011</td>\n",
       "      <td>0.029456</td>\n",
       "      <td>0.059261</td>\n",
       "      <td>0.007393</td>\n",
       "      <td>0.028711</td>\n",
       "      <td>0.007206</td>\n",
       "    </tr>\n",
       "    <tr>\n",
       "      <th>5</th>\n",
       "      <td>0.144791</td>\n",
       "      <td>-0.137587</td>\n",
       "      <td>-0.156522</td>\n",
       "      <td>0.068054</td>\n",
       "      <td>-0.070163</td>\n",
       "      <td>0.017906</td>\n",
       "      <td>0.662564</td>\n",
       "      <td>0.169401</td>\n",
       "      <td>0.299220</td>\n",
       "      <td>0.652994</td>\n",
       "      <td>0.294898</td>\n",
       "    </tr>\n",
       "    <tr>\n",
       "      <th>6</th>\n",
       "      <td>0.034469</td>\n",
       "      <td>0.024335</td>\n",
       "      <td>-0.010684</td>\n",
       "      <td>-0.014933</td>\n",
       "      <td>-0.010217</td>\n",
       "      <td>0.000568</td>\n",
       "      <td>0.070186</td>\n",
       "      <td>0.365586</td>\n",
       "      <td>0.053280</td>\n",
       "      <td>0.068418</td>\n",
       "      <td>0.051937</td>\n",
       "    </tr>\n",
       "    <tr>\n",
       "      <th>7</th>\n",
       "      <td>0.105739</td>\n",
       "      <td>-0.005965</td>\n",
       "      <td>0.001874</td>\n",
       "      <td>-0.117574</td>\n",
       "      <td>0.068523</td>\n",
       "      <td>0.004646</td>\n",
       "      <td>-0.296148</td>\n",
       "      <td>0.209392</td>\n",
       "      <td>-0.152408</td>\n",
       "      <td>-0.289284</td>\n",
       "      <td>-0.148876</td>\n",
       "    </tr>\n",
       "    <tr>\n",
       "      <th>8</th>\n",
       "      <td>0.097749</td>\n",
       "      <td>-0.014304</td>\n",
       "      <td>-0.093148</td>\n",
       "      <td>0.079885</td>\n",
       "      <td>-0.145595</td>\n",
       "      <td>0.016344</td>\n",
       "      <td>-0.897218</td>\n",
       "      <td>0.092159</td>\n",
       "      <td>-0.285865</td>\n",
       "      <td>-0.892649</td>\n",
       "      <td>-0.284409</td>\n",
       "    </tr>\n",
       "    <tr>\n",
       "      <th>9</th>\n",
       "      <td>0.138960</td>\n",
       "      <td>-0.212722</td>\n",
       "      <td>0.361760</td>\n",
       "      <td>-0.264581</td>\n",
       "      <td>0.126703</td>\n",
       "      <td>0.048787</td>\n",
       "      <td>-1.064197</td>\n",
       "      <td>0.177219</td>\n",
       "      <td>-0.493895</td>\n",
       "      <td>-1.067928</td>\n",
       "      <td>-0.495627</td>\n",
       "    </tr>\n",
       "    <tr>\n",
       "      <th>10</th>\n",
       "      <td>-0.416101</td>\n",
       "      <td>0.216746</td>\n",
       "      <td>0.273247</td>\n",
       "      <td>0.229089</td>\n",
       "      <td>-0.201182</td>\n",
       "      <td>0.065494</td>\n",
       "      <td>-1.223559</td>\n",
       "      <td>0.179477</td>\n",
       "      <td>-0.572248</td>\n",
       "      <td>-1.239886</td>\n",
       "      <td>-0.579884</td>\n",
       "    </tr>\n",
       "    <tr>\n",
       "      <th>11</th>\n",
       "      <td>-0.143776</td>\n",
       "      <td>0.110377</td>\n",
       "      <td>0.004332</td>\n",
       "      <td>0.066076</td>\n",
       "      <td>-0.009435</td>\n",
       "      <td>0.007691</td>\n",
       "      <td>0.414596</td>\n",
       "      <td>0.182823</td>\n",
       "      <td>0.196102</td>\n",
       "      <td>0.405846</td>\n",
       "      <td>0.191964</td>\n",
       "    </tr>\n",
       "    <tr>\n",
       "      <th>12</th>\n",
       "      <td>-0.000046</td>\n",
       "      <td>-0.072197</td>\n",
       "      <td>-0.044034</td>\n",
       "      <td>0.013952</td>\n",
       "      <td>0.026879</td>\n",
       "      <td>0.001856</td>\n",
       "      <td>-0.146902</td>\n",
       "      <td>0.300701</td>\n",
       "      <td>-0.096331</td>\n",
       "      <td>-0.143260</td>\n",
       "      <td>-0.093942</td>\n",
       "    </tr>\n",
       "    <tr>\n",
       "      <th>13</th>\n",
       "      <td>-0.100380</td>\n",
       "      <td>0.067613</td>\n",
       "      <td>-0.133418</td>\n",
       "      <td>-0.249764</td>\n",
       "      <td>0.435851</td>\n",
       "      <td>0.061918</td>\n",
       "      <td>-0.970447</td>\n",
       "      <td>0.247402</td>\n",
       "      <td>-0.556406</td>\n",
       "      <td>-0.968963</td>\n",
       "      <td>-0.555556</td>\n",
       "    </tr>\n",
       "    <tr>\n",
       "      <th>14</th>\n",
       "      <td>-0.003701</td>\n",
       "      <td>-0.001833</td>\n",
       "      <td>-0.004631</td>\n",
       "      <td>0.000478</td>\n",
       "      <td>0.005565</td>\n",
       "      <td>0.000022</td>\n",
       "      <td>0.024941</td>\n",
       "      <td>0.152557</td>\n",
       "      <td>0.010582</td>\n",
       "      <td>0.024310</td>\n",
       "      <td>0.010314</td>\n",
       "    </tr>\n",
       "    <tr>\n",
       "      <th>15</th>\n",
       "      <td>0.005164</td>\n",
       "      <td>-0.132972</td>\n",
       "      <td>0.581968</td>\n",
       "      <td>-0.722254</td>\n",
       "      <td>0.744671</td>\n",
       "      <td>0.191284</td>\n",
       "      <td>1.593183</td>\n",
       "      <td>0.273681</td>\n",
       "      <td>0.977968</td>\n",
       "      <td>1.661875</td>\n",
       "      <td>1.020134</td>\n",
       "    </tr>\n",
       "    <tr>\n",
       "      <th>16</th>\n",
       "      <td>0.116546</td>\n",
       "      <td>-0.121429</td>\n",
       "      <td>-0.598235</td>\n",
       "      <td>-0.162226</td>\n",
       "      <td>0.480816</td>\n",
       "      <td>0.136902</td>\n",
       "      <td>1.638754</td>\n",
       "      <td>0.203118</td>\n",
       "      <td>0.827352</td>\n",
       "      <td>1.716666</td>\n",
       "      <td>0.866687</td>\n",
       "    </tr>\n",
       "    <tr>\n",
       "      <th>17</th>\n",
       "      <td>-0.347965</td>\n",
       "      <td>0.587371</td>\n",
       "      <td>0.105167</td>\n",
       "      <td>-0.166418</td>\n",
       "      <td>0.253002</td>\n",
       "      <td>0.136369</td>\n",
       "      <td>1.278488</td>\n",
       "      <td>0.294358</td>\n",
       "      <td>0.825738</td>\n",
       "      <td>1.300387</td>\n",
       "      <td>0.839882</td>\n",
       "    </tr>\n",
       "    <tr>\n",
       "      <th>18</th>\n",
       "      <td>0.079277</td>\n",
       "      <td>0.016471</td>\n",
       "      <td>-0.084619</td>\n",
       "      <td>-0.103369</td>\n",
       "      <td>0.101246</td>\n",
       "      <td>0.008716</td>\n",
       "      <td>-0.540661</td>\n",
       "      <td>0.129741</td>\n",
       "      <td>-0.208756</td>\n",
       "      <td>-0.530865</td>\n",
       "      <td>-0.204974</td>\n",
       "    </tr>\n",
       "    <tr>\n",
       "      <th>19</th>\n",
       "      <td>-0.115233</td>\n",
       "      <td>-0.245699</td>\n",
       "      <td>0.120573</td>\n",
       "      <td>0.044431</td>\n",
       "      <td>0.047668</td>\n",
       "      <td>0.032173</td>\n",
       "      <td>-1.161310</td>\n",
       "      <td>0.106567</td>\n",
       "      <td>-0.401078</td>\n",
       "      <td>-1.172113</td>\n",
       "      <td>-0.404809</td>\n",
       "    </tr>\n",
       "    <tr>\n",
       "      <th>20</th>\n",
       "      <td>0.061344</td>\n",
       "      <td>-0.055956</td>\n",
       "      <td>0.069516</td>\n",
       "      <td>-0.056495</td>\n",
       "      <td>0.015415</td>\n",
       "      <td>0.002457</td>\n",
       "      <td>0.178985</td>\n",
       "      <td>0.277152</td>\n",
       "      <td>0.110828</td>\n",
       "      <td>0.174592</td>\n",
       "      <td>0.108109</td>\n",
       "    </tr>\n",
       "    <tr>\n",
       "      <th>21</th>\n",
       "      <td>0.210143</td>\n",
       "      <td>0.081752</td>\n",
       "      <td>0.072201</td>\n",
       "      <td>-0.243288</td>\n",
       "      <td>0.079070</td>\n",
       "      <td>0.024404</td>\n",
       "      <td>-0.784930</td>\n",
       "      <td>0.165308</td>\n",
       "      <td>-0.349313</td>\n",
       "      <td>-0.777119</td>\n",
       "      <td>-0.345837</td>\n",
       "    </tr>\n",
       "    <tr>\n",
       "      <th>22</th>\n",
       "      <td>0.285171</td>\n",
       "      <td>0.205473</td>\n",
       "      <td>-0.627658</td>\n",
       "      <td>0.353588</td>\n",
       "      <td>-0.443532</td>\n",
       "      <td>0.151104</td>\n",
       "      <td>1.440887</td>\n",
       "      <td>0.266810</td>\n",
       "      <td>0.869207</td>\n",
       "      <td>1.483512</td>\n",
       "      <td>0.894920</td>\n",
       "    </tr>\n",
       "    <tr>\n",
       "      <th>23</th>\n",
       "      <td>-0.114001</td>\n",
       "      <td>-0.053568</td>\n",
       "      <td>-0.000750</td>\n",
       "      <td>0.114415</td>\n",
       "      <td>-0.035246</td>\n",
       "      <td>0.006952</td>\n",
       "      <td>0.400550</td>\n",
       "      <td>0.178081</td>\n",
       "      <td>0.186445</td>\n",
       "      <td>0.391983</td>\n",
       "      <td>0.182458</td>\n",
       "    </tr>\n",
       "    <tr>\n",
       "      <th>24</th>\n",
       "      <td>0.145860</td>\n",
       "      <td>-0.061125</td>\n",
       "      <td>0.512250</td>\n",
       "      <td>-0.007750</td>\n",
       "      <td>-0.312517</td>\n",
       "      <td>0.095316</td>\n",
       "      <td>1.233931</td>\n",
       "      <td>0.238390</td>\n",
       "      <td>0.690348</td>\n",
       "      <td>1.251258</td>\n",
       "      <td>0.700042</td>\n",
       "    </tr>\n",
       "  </tbody>\n",
       "</table>\n",
       "</div>"
      ],
      "text/plain": [
       "    dfb_const    dfb_X1    dfb_X2    dfb_X3    dfb_X4   cooks_d  \\\n",
       "0    0.103846 -0.189654  0.089298  0.178584 -0.271852  0.050732   \n",
       "1    0.006218 -0.015830 -0.003065 -0.006414  0.011200  0.000073   \n",
       "2    0.045091 -0.001547  0.034485  0.146708 -0.265395  0.032440   \n",
       "3   -0.384668  0.132049 -0.487684  0.712808 -0.474809  0.130699   \n",
       "4    0.004261  0.000044  0.000045 -0.001495 -0.001061  0.000011   \n",
       "5    0.144791 -0.137587 -0.156522  0.068054 -0.070163  0.017906   \n",
       "6    0.034469  0.024335 -0.010684 -0.014933 -0.010217  0.000568   \n",
       "7    0.105739 -0.005965  0.001874 -0.117574  0.068523  0.004646   \n",
       "8    0.097749 -0.014304 -0.093148  0.079885 -0.145595  0.016344   \n",
       "9    0.138960 -0.212722  0.361760 -0.264581  0.126703  0.048787   \n",
       "10  -0.416101  0.216746  0.273247  0.229089 -0.201182  0.065494   \n",
       "11  -0.143776  0.110377  0.004332  0.066076 -0.009435  0.007691   \n",
       "12  -0.000046 -0.072197 -0.044034  0.013952  0.026879  0.001856   \n",
       "13  -0.100380  0.067613 -0.133418 -0.249764  0.435851  0.061918   \n",
       "14  -0.003701 -0.001833 -0.004631  0.000478  0.005565  0.000022   \n",
       "15   0.005164 -0.132972  0.581968 -0.722254  0.744671  0.191284   \n",
       "16   0.116546 -0.121429 -0.598235 -0.162226  0.480816  0.136902   \n",
       "17  -0.347965  0.587371  0.105167 -0.166418  0.253002  0.136369   \n",
       "18   0.079277  0.016471 -0.084619 -0.103369  0.101246  0.008716   \n",
       "19  -0.115233 -0.245699  0.120573  0.044431  0.047668  0.032173   \n",
       "20   0.061344 -0.055956  0.069516 -0.056495  0.015415  0.002457   \n",
       "21   0.210143  0.081752  0.072201 -0.243288  0.079070  0.024404   \n",
       "22   0.285171  0.205473 -0.627658  0.353588 -0.443532  0.151104   \n",
       "23  -0.114001 -0.053568 -0.000750  0.114415 -0.035246  0.006952   \n",
       "24   0.145860 -0.061125  0.512250 -0.007750 -0.312517  0.095316   \n",
       "\n",
       "    standard_resid  hat_diag  dffits_internal  student_resid    dffits  \n",
       "0         1.496313  0.101765         0.503648       1.547623  0.520919  \n",
       "1         0.026037  0.351478         0.019168       0.025378  0.018683  \n",
       "2        -1.367190  0.079846        -0.402741      -1.399579 -0.412282  \n",
       "3        -1.628359  0.197726        -0.808390      -1.704107 -0.845994  \n",
       "4         0.029456  0.059261         0.007393       0.028711  0.007206  \n",
       "5         0.662564  0.169401         0.299220       0.652994  0.294898  \n",
       "6         0.070186  0.365586         0.053280       0.068418  0.051937  \n",
       "7        -0.296148  0.209392        -0.152408      -0.289284 -0.148876  \n",
       "8        -0.897218  0.092159        -0.285865      -0.892649 -0.284409  \n",
       "9        -1.064197  0.177219        -0.493895      -1.067928 -0.495627  \n",
       "10       -1.223559  0.179477        -0.572248      -1.239886 -0.579884  \n",
       "11        0.414596  0.182823         0.196102       0.405846  0.191964  \n",
       "12       -0.146902  0.300701        -0.096331      -0.143260 -0.093942  \n",
       "13       -0.970447  0.247402        -0.556406      -0.968963 -0.555556  \n",
       "14        0.024941  0.152557         0.010582       0.024310  0.010314  \n",
       "15        1.593183  0.273681         0.977968       1.661875  1.020134  \n",
       "16        1.638754  0.203118         0.827352       1.716666  0.866687  \n",
       "17        1.278488  0.294358         0.825738       1.300387  0.839882  \n",
       "18       -0.540661  0.129741        -0.208756      -0.530865 -0.204974  \n",
       "19       -1.161310  0.106567        -0.401078      -1.172113 -0.404809  \n",
       "20        0.178985  0.277152         0.110828       0.174592  0.108109  \n",
       "21       -0.784930  0.165308        -0.349313      -0.777119 -0.345837  \n",
       "22        1.440887  0.266810         0.869207       1.483512  0.894920  \n",
       "23        0.400550  0.178081         0.186445       0.391983  0.182458  \n",
       "24        1.233931  0.238390         0.690348       1.251258  0.700042  "
      ]
     },
     "execution_count": 14,
     "metadata": {},
     "output_type": "execute_result"
    }
   ],
   "source": [
    "# Debemos revisar los valores atipicos del modelo, de tal forma que si existen los identificamos y sustraemos para generar el nuevo modelo\n",
    "# esto lo realizamos con los test Cook, Diffits, hii\n",
    "\n",
    "#obtener la distancia de Cook para cada observación\n",
    "influence = modelo.get_influence()\n",
    "influence_summary = influence.summary_frame()\n",
    "influence_summary"
   ]
  },
  {
   "cell_type": "markdown",
   "metadata": {},
   "source": [
    "Pasos para hallar la distancias de Cook"
   ]
  },
  {
   "cell_type": "code",
   "execution_count": 15,
   "metadata": {},
   "outputs": [
    {
     "data": {
      "text/plain": [
       "array([5.07323148e-02, 7.34839933e-05, 3.24401101e-02, 1.30698907e-01,\n",
       "       1.09315372e-05, 1.79064728e-02, 5.67744254e-04, 4.64564766e-03,\n",
       "       1.63437734e-02, 4.87865209e-02, 6.54936337e-02, 7.69121767e-03,\n",
       "       1.85591776e-03, 6.19175868e-02, 2.23960883e-05, 1.91284303e-01,\n",
       "       1.36902347e-01, 1.36368792e-01, 8.71585465e-03, 3.21726474e-02,\n",
       "       2.45658918e-03, 2.44039154e-02, 1.51104141e-01, 6.95237582e-03,\n",
       "       9.53160723e-02])"
      ]
     },
     "execution_count": 15,
     "metadata": {},
     "output_type": "execute_result"
    }
   ],
   "source": [
    "cook = influence.cooks_distance[0]\n",
    "cook"
   ]
  },
  {
   "cell_type": "code",
   "execution_count": 10,
   "metadata": {},
   "outputs": [
    {
     "data": {
      "image/png": "[encoded data removed]",
      "text/plain": [
       "<Figure size 1000x600 with 1 Axes>"
      ]
     },
     "metadata": {},
     "output_type": "display_data"
    }
   ],
   "source": [
    "# Graficar la distancia de Cook\n",
    "plt.figure(figsize=(10, 6))\n",
    "plt.stem(range(len(cook)), cook, markerfmt=\" \", basefmt=\" \")\n",
    "plt.title('Distancia de Cook')\n",
    "plt.xlabel('Observaciones')\n",
    "plt.ylabel('Distancia de Cook')\n",
    "plt.axhline(y=4 / len(DatosLaboral), color='r', linestyle='--', label='Límite crítico (4/n)')\n",
    "plt.legend()\n",
    "plt.grid()\n",
    "plt.show()"
   ]
  },
  {
   "cell_type": "markdown",
   "metadata": {},
   "source": [
    "Toca preguntar por cúal nos vamos a llevar a cabo"
   ]
  },
  {
   "cell_type": "code",
   "execution_count": 11,
   "metadata": {},
   "outputs": [
    {
     "data": {
      "text/html": [
       "<div>\n",
       "<style scoped>\n",
       "    .dataframe tbody tr th:only-of-type {\n",
       "        vertical-align: middle;\n",
       "    }\n",
       "\n",
       "    .dataframe tbody tr th {\n",
       "        vertical-align: top;\n",
       "    }\n",
       "\n",
       "    .dataframe thead th {\n",
       "        text-align: right;\n",
       "    }\n",
       "</style>\n",
       "<table border=\"1\" class=\"dataframe\">\n",
       "  <thead>\n",
       "    <tr style=\"text-align: right;\">\n",
       "      <th></th>\n",
       "      <th>Y</th>\n",
       "      <th>X1</th>\n",
       "      <th>X2</th>\n",
       "      <th>X3</th>\n",
       "      <th>X4</th>\n",
       "    </tr>\n",
       "  </thead>\n",
       "  <tbody>\n",
       "  </tbody>\n",
       "</table>\n",
       "</div>"
      ],
      "text/plain": [
       "Empty DataFrame\n",
       "Columns: [Y, X1, X2, X3, X4]\n",
       "Index: []"
      ]
     },
     "execution_count": 11,
     "metadata": {},
     "output_type": "execute_result"
    }
   ],
   "source": [
    "punto = DatosLaboral[cook > 1 ]\n",
    "punto"
   ]
  },
  {
   "cell_type": "markdown",
   "metadata": {},
   "source": [
    "Punto influyente por distancia de Cook"
   ]
  },
  {
   "cell_type": "code",
   "execution_count": 49,
   "metadata": {},
   "outputs": [
    {
     "data": {
      "text/html": [
       "<div>\n",
       "<style scoped>\n",
       "    .dataframe tbody tr th:only-of-type {\n",
       "        vertical-align: middle;\n",
       "    }\n",
       "\n",
       "    .dataframe tbody tr th {\n",
       "        vertical-align: top;\n",
       "    }\n",
       "\n",
       "    .dataframe thead th {\n",
       "        text-align: right;\n",
       "    }\n",
       "</style>\n",
       "<table border=\"1\" class=\"dataframe\">\n",
       "  <thead>\n",
       "    <tr style=\"text-align: right;\">\n",
       "      <th></th>\n",
       "      <th>Y</th>\n",
       "      <th>X1</th>\n",
       "      <th>X2</th>\n",
       "      <th>X3</th>\n",
       "      <th>X4</th>\n",
       "    </tr>\n",
       "  </thead>\n",
       "  <tbody>\n",
       "    <tr>\n",
       "      <th>15</th>\n",
       "      <td>109</td>\n",
       "      <td>109</td>\n",
       "      <td>129</td>\n",
       "      <td>102</td>\n",
       "      <td>108</td>\n",
       "    </tr>\n",
       "  </tbody>\n",
       "</table>\n",
       "</div>"
      ],
      "text/plain": [
       "      Y   X1   X2   X3   X4\n",
       "15  109  109  129  102  108"
      ]
     },
     "execution_count": 49,
     "metadata": {},
     "output_type": "execute_result"
    }
   ],
   "source": [
    "puntoInfluyenteCook = DatosLaboral[cook > (4/len(DatosLaboral)) ]\n",
    "puntoInfluyenteCook"
   ]
  },
  {
   "cell_type": "markdown",
   "metadata": {},
   "source": [
    "Puntos de influencia con DFFITS "
   ]
  },
  {
   "cell_type": "code",
   "execution_count": 16,
   "metadata": {},
   "outputs": [
    {
     "data": {
      "text/plain": [
       "array([ 0.5209186 ,  0.01868317, -0.4122822 , -0.84599441,  0.00720604,\n",
       "        0.29489758,  0.05193698, -0.14887585, -0.28440938, -0.49562674,\n",
       "       -0.57988439,  0.19196352, -0.09394217, -0.55555556,  0.0103143 ,\n",
       "        1.02013436,  0.86668735,  0.83988204, -0.2049741 , -0.40480881,\n",
       "        0.10810883, -0.34583676,  0.89492038,  0.18245779,  0.70004227])"
      ]
     },
     "execution_count": 16,
     "metadata": {},
     "output_type": "execute_result"
    }
   ],
   "source": [
    "dffits = influence.dffits[0] \n",
    "dffits"
   ]
  },
  {
   "cell_type": "code",
   "execution_count": 48,
   "metadata": {},
   "outputs": [
    {
     "data": {
      "text/html": [
       "<div>\n",
       "<style scoped>\n",
       "    .dataframe tbody tr th:only-of-type {\n",
       "        vertical-align: middle;\n",
       "    }\n",
       "\n",
       "    .dataframe tbody tr th {\n",
       "        vertical-align: top;\n",
       "    }\n",
       "\n",
       "    .dataframe thead th {\n",
       "        text-align: right;\n",
       "    }\n",
       "</style>\n",
       "<table border=\"1\" class=\"dataframe\">\n",
       "  <thead>\n",
       "    <tr style=\"text-align: right;\">\n",
       "      <th></th>\n",
       "      <th>Y</th>\n",
       "      <th>X1</th>\n",
       "      <th>X2</th>\n",
       "      <th>X3</th>\n",
       "      <th>X4</th>\n",
       "    </tr>\n",
       "  </thead>\n",
       "  <tbody>\n",
       "  </tbody>\n",
       "</table>\n",
       "</div>"
      ],
      "text/plain": [
       "Empty DataFrame\n",
       "Columns: [Y, X1, X2, X3, X4]\n",
       "Index: []"
      ]
     },
     "execution_count": 48,
     "metadata": {},
     "output_type": "execute_result"
    }
   ],
   "source": [
    "#Puntos de influencia por DFFITS\n",
    "\n",
    "puntosInfluenciaDFFITS = DatosLaboral[np.abs(dffits) > 2 * np.sqrt(len(x) * modelo.df_model / modelo.df_resid)]\n",
    "puntosInfluenciaDFFITS"
   ]
  },
  {
   "cell_type": "markdown",
   "metadata": {},
   "source": [
    "Puntos de influencia por DFBETAS"
   ]
  },
  {
   "cell_type": "code",
   "execution_count": 61,
   "metadata": {},
   "outputs": [
    {
     "data": {
      "text/plain": [
       "array([[ 1.03846090e-01, -1.89654055e-01,  8.92975188e-02,\n",
       "         1.78583784e-01, -2.71852269e-01],\n",
       "       [ 6.21753655e-03, -1.58298007e-02, -3.06549260e-03,\n",
       "        -6.41366134e-03,  1.11995877e-02],\n",
       "       [ 4.50910539e-02, -1.54743441e-03,  3.44850694e-02,\n",
       "         1.46708413e-01, -2.65394894e-01],\n",
       "       [-3.84668323e-01,  1.32048667e-01, -4.87683565e-01,\n",
       "         7.12807714e-01, -4.74809458e-01],\n",
       "       [ 4.26119092e-03,  4.43973124e-05,  4.52363443e-05,\n",
       "        -1.49483776e-03, -1.06126004e-03],\n",
       "       [ 1.44791059e-01, -1.37586543e-01, -1.56522091e-01,\n",
       "         6.80544522e-02, -7.01632265e-02],\n",
       "       [ 3.44692799e-02,  2.43350860e-02, -1.06842360e-02,\n",
       "        -1.49326138e-02, -1.02167340e-02],\n",
       "       [ 1.05739064e-01, -5.96493788e-03,  1.87400971e-03,\n",
       "        -1.17573858e-01,  6.85225783e-02],\n",
       "       [ 9.77488936e-02, -1.43039204e-02, -9.31483031e-02,\n",
       "         7.98852132e-02, -1.45595057e-01],\n",
       "       [ 1.38959992e-01, -2.12722338e-01,  3.61760207e-01,\n",
       "        -2.64581090e-01,  1.26702692e-01],\n",
       "       [-4.16100732e-01,  2.16746178e-01,  2.73246518e-01,\n",
       "         2.29088608e-01, -2.01182475e-01],\n",
       "       [-1.43775681e-01,  1.10376535e-01,  4.33198430e-03,\n",
       "         6.60761453e-02, -9.43473050e-03],\n",
       "       [-4.62758248e-05, -7.21967391e-02, -4.40343266e-02,\n",
       "         1.39523167e-02,  2.68794602e-02],\n",
       "       [-1.00380458e-01,  6.76133544e-02, -1.33417685e-01,\n",
       "        -2.49763658e-01,  4.35851348e-01],\n",
       "       [-3.70050591e-03, -1.83301083e-03, -4.63088112e-03,\n",
       "         4.78264871e-04,  5.56478435e-03],\n",
       "       [ 5.16373771e-03, -1.32971578e-01,  5.81968027e-01,\n",
       "        -7.22253805e-01,  7.44671314e-01],\n",
       "       [ 1.16545561e-01, -1.21428503e-01, -5.98235063e-01,\n",
       "        -1.62226230e-01,  4.80815726e-01],\n",
       "       [-3.47964648e-01,  5.87371053e-01,  1.05166769e-01,\n",
       "        -1.66418379e-01,  2.53001631e-01],\n",
       "       [ 7.92771400e-02,  1.64710055e-02, -8.46191984e-02,\n",
       "        -1.03368774e-01,  1.01245584e-01],\n",
       "       [-1.15233194e-01, -2.45698651e-01,  1.20572605e-01,\n",
       "         4.44306149e-02,  4.76680665e-02],\n",
       "       [ 6.13438339e-02, -5.59563599e-02,  6.95163399e-02,\n",
       "        -5.64945028e-02,  1.54148945e-02],\n",
       "       [ 2.10143308e-01,  8.17524055e-02,  7.22013265e-02,\n",
       "        -2.43287823e-01,  7.90697826e-02],\n",
       "       [ 2.85171137e-01,  2.05473150e-01, -6.27657907e-01,\n",
       "         3.53587741e-01, -4.43531724e-01],\n",
       "       [-1.14000934e-01, -5.35680241e-02, -7.49994432e-04,\n",
       "         1.14415353e-01, -3.52462517e-02],\n",
       "       [ 1.45860033e-01, -6.11252744e-02,  5.12250096e-01,\n",
       "        -7.75007953e-03, -3.12516962e-01]])"
      ]
     },
     "execution_count": 61,
     "metadata": {},
     "output_type": "execute_result"
    }
   ],
   "source": [
    "dfbetas = modelo.get_influence().dfbetas\n",
    "dfbetas"
   ]
  },
  {
   "cell_type": "markdown",
   "metadata": {},
   "source": [
    "Hallamos los puntos de influencia de DFBETAS"
   ]
  },
  {
   "cell_type": "code",
   "execution_count": 65,
   "metadata": {},
   "outputs": [
    {
     "data": {
      "text/html": [
       "<div>\n",
       "<style scoped>\n",
       "    .dataframe tbody tr th:only-of-type {\n",
       "        vertical-align: middle;\n",
       "    }\n",
       "\n",
       "    .dataframe tbody tr th {\n",
       "        vertical-align: top;\n",
       "    }\n",
       "\n",
       "    .dataframe thead th {\n",
       "        text-align: right;\n",
       "    }\n",
       "</style>\n",
       "<table border=\"1\" class=\"dataframe\">\n",
       "  <thead>\n",
       "    <tr style=\"text-align: right;\">\n",
       "      <th></th>\n",
       "      <th>Y</th>\n",
       "      <th>X1</th>\n",
       "      <th>X2</th>\n",
       "      <th>X3</th>\n",
       "      <th>X4</th>\n",
       "    </tr>\n",
       "  </thead>\n",
       "  <tbody>\n",
       "    <tr>\n",
       "      <th>10</th>\n",
       "      <td>64</td>\n",
       "      <td>87</td>\n",
       "      <td>81</td>\n",
       "      <td>90</td>\n",
       "      <td>88</td>\n",
       "    </tr>\n",
       "  </tbody>\n",
       "</table>\n",
       "</div>"
      ],
      "text/plain": [
       "     Y  X1  X2  X3  X4\n",
       "10  64  87  81  90  88"
      ]
     },
     "execution_count": 65,
     "metadata": {},
     "output_type": "execute_result"
    }
   ],
   "source": [
    "puntosInfluenciaDFBETAS = np.where(np.abs(dfbetas[:, 0]) > 2 / np.sqrt(len(x)))\n",
    "DatosLaboral.iloc[puntosInfluenciaDFBETAS]"
   ]
  },
  {
   "cell_type": "markdown",
   "metadata": {},
   "source": [
    "Hallamos los residuales estudentizados"
   ]
  },
  {
   "cell_type": "code",
   "execution_count": 17,
   "metadata": {},
   "outputs": [
    {
     "data": {
      "text/plain": [
       "array([ 1.54762268,  0.02537838, -1.39957856, -1.7041067 ,  0.02871093,\n",
       "        0.65299423,  0.06841761, -0.28928442, -0.89264909, -1.06792789,\n",
       "       -1.23988648,  0.40584623, -0.14326001, -0.96896321,  0.02430965,\n",
       "        1.66187532,  1.71666594,  1.30038655, -0.53086497, -1.17211344,\n",
       "        0.17459249, -0.77711907,  1.48351219,  0.39198316,  1.2512583 ])"
      ]
     },
     "execution_count": 17,
     "metadata": {},
     "output_type": "execute_result"
    }
   ],
   "source": [
    "residualesEstudentizados = influence.resid_studentized_external\n",
    "residualesEstudentizados"
   ]
  },
  {
   "cell_type": "code",
   "execution_count": 68,
   "metadata": {},
   "outputs": [
    {
     "name": "stdout",
     "output_type": "stream",
     "text": [
      "puntos influyentes de residuales estudentizados: []\n"
     ]
    },
    {
     "data": {
      "image/png": "[encoded data removed]",
      "text/plain": [
       "<Figure size 1000x600 with 1 Axes>"
      ]
     },
     "metadata": {},
     "output_type": "display_data"
    }
   ],
   "source": [
    "\n",
    "# Establecer un umbral\n",
    "umbral = 2  # Ajusta según tu criterio\n",
    "\n",
    "# Identificar puntos influyentes\n",
    "puntosInfluyentesEstudentizados = np.where(abs(residualesEstudentizados) > umbral)[0]\n",
    "\n",
    "# Mostrar los índices de puntos influyentes\n",
    "print(\"puntos influyentes de residuales estudentizados:\", puntosInfluyentesEstudentizados)\n",
    "\n",
    "# Graficar los residuos estandarizados\n",
    "plt.figure(figsize=(10, 6))\n",
    "plt.scatter(np.arange(len(DatosLaboral)), residualesEstudentizados, color='blue')\n",
    "plt.axhline(y=umbral, color='red', linestyle='--')\n",
    "plt.title('Residuos Estudentizados')\n",
    "plt.xlabel('Índice de Observaciones')\n",
    "plt.ylabel('Residuos Estudentizados')\n",
    "plt.show()"
   ]
  },
  {
   "cell_type": "markdown",
   "metadata": {},
   "source": [
    "Puntos de influencia por el método de leverage"
   ]
  },
  {
   "cell_type": "code",
   "execution_count": 31,
   "metadata": {},
   "outputs": [
    {
     "data": {
      "text/plain": [
       "array([0.10176523, 0.35147801, 0.07984633, 0.19772613, 0.05926091,\n",
       "       0.16940073, 0.36558643, 0.20939183, 0.09215868, 0.17721886,\n",
       "       0.17947732, 0.18282289, 0.30070066, 0.24740212, 0.15255708,\n",
       "       0.27368129, 0.2031176 , 0.29435811, 0.12974129, 0.10656697,\n",
       "       0.27715209, 0.16530786, 0.26681045, 0.17808148, 0.23838966])"
      ]
     },
     "execution_count": 31,
     "metadata": {},
     "output_type": "execute_result"
    }
   ],
   "source": [
    "leverage = influence.hat_matrix_diag\n",
    "leverage\n",
    "\n"
   ]
  },
  {
   "cell_type": "code",
   "execution_count": 58,
   "metadata": {},
   "outputs": [
    {
     "name": "stdout",
     "output_type": "stream",
     "text": [
      "Este son mis puntos influenciables de Leverage:   \n",
      "    Y   X1  X2  X3  X4\n",
      "6  58  120  77  80  74\n",
      "Este son mis puntos influenciables de Cook: \n",
      "      Y   X1   X2   X3   X4\n",
      "15  109  109  129  102  108\n"
     ]
    }
   ],
   "source": [
    "puntoInfluenciaLeverage = np.where(leverage > np.mean(leverage) + 2 * np.std(leverage))\n",
    "observacionesInlfuenciableCook = np.where(cook > 4 / len(DatosLaboral))\n",
    "\n",
    "#Preparar los datos para la graficación\n",
    "valorx =  np.arange(len(DatosLaboral)) # Indices de las observaciones\n",
    "valory = y.values   #Extraer valores de la variable dependiente\n",
    "\n",
    "print(f\"Este son mis puntos influenciables de Leverage:   \\n{DatosLaboral.iloc[puntoInfluenciaLeverage]}\")\n",
    "\n",
    "print(f\"Este son mis puntos influenciables de Cook: \\n{DatosLaboral.iloc[observacionesInlfuenciableCook]}\")\n",
    "\n",
    "\n"
   ]
  },
  {
   "cell_type": "code",
   "execution_count": 59,
   "metadata": {},
   "outputs": [
    {
     "data": {
      "image/png": "[encoded data removed]",
      "text/plain": [
       "<Figure size 640x480 with 1 Axes>"
      ]
     },
     "metadata": {},
     "output_type": "display_data"
    }
   ],
   "source": [
    "#Graficar\n",
    "# Plot leverage and influential observations using seaborn\n",
    "sns.scatterplot(x = valorx, y = valory, color='blue', label='Data')\n",
    "sns.scatterplot(x= valorx[puntoInfluenciaLeverage], y=valory[puntoInfluenciaLeverage], color='red', label='Puntos Leverage')\n",
    "sns.scatterplot(x=valorx[observacionesInlfuenciableCook], y= valory[observacionesInlfuenciableCook], color='green', label='Observaciones Inlfuenciables')\n",
    "sns.regplot(x= valorx, y= valory, scatter=False, color='black', label='Regresion lineal')\n",
    "\n",
    "# Add labels and title to the plot\n",
    "sns.set_style('whitegrid')\n",
    "sns.set_palette('bright')\n",
    "plt.xlabel('X')\n",
    "plt.ylabel('Y')\n",
    "plt.title('Leverage y Observaciones Inlfuenciables')\n",
    "plt.legend()\n",
    "\n",
    "# Show the plot\n",
    "plt.show()"
   ]
  },
  {
   "cell_type": "code",
   "execution_count": 13,
   "metadata": {},
   "outputs": [
    {
     "ename": "NameError",
     "evalue": "name 'modelo_final_res' is not defined",
     "output_type": "error",
     "traceback": [
      "\u001b[1;31m---------------------------------------------------------------------------\u001b[0m",
      "\u001b[1;31mNameError\u001b[0m                                 Traceback (most recent call last)",
      "Cell \u001b[1;32mIn[13], line 3\u001b[0m\n\u001b[0;32m      1\u001b[0m \u001b[38;5;66;03m# Residuos del modelo\u001b[39;00m\n\u001b[0;32m      2\u001b[0m \u001b[38;5;66;03m# ==============================================================================\u001b[39;00m\n\u001b[1;32m----> 3\u001b[0m residuos \u001b[38;5;241m=\u001b[39m modelo_final_res\u001b[38;5;241m.\u001b[39mresid\n\u001b[0;32m      5\u001b[0m \u001b[38;5;66;03m# prediciones de entrenamiento\u001b[39;00m\n\u001b[0;32m      6\u001b[0m \u001b[38;5;66;03m# ==============================================================================\u001b[39;00m\n\u001b[0;32m      7\u001b[0m prediccion_train \u001b[38;5;241m=\u001b[39m modelo_final_res\u001b[38;5;241m.\u001b[39mpredict(X_train[predictores])\n",
      "\u001b[1;31mNameError\u001b[0m: name 'modelo_final_res' is not defined"
     ]
    }
   ],
   "source": [
    "# Residuos del modelo\n",
    "# ==============================================================================\n",
    "residuos = modelo_final_res.resid\n",
    "\n",
    "# prediciones de entrenamiento\n",
    "# ==============================================================================\n",
    "prediccion_train = modelo_final_res.predict(X_train[predictores])"
   ]
  },
  {
   "cell_type": "code",
   "execution_count": null,
   "metadata": {},
   "outputs": [],
   "source": [
    "# Gráficos\n",
    "# ==============================================================================\n",
    "fig, axes = plt.subplots(nrows=3, ncols=2, figsize=(9, 8))\n",
    "\n",
    "axes[0, 0].scatter(y_train, prediccion_train, edgecolors=(0, 0, 0), alpha = 0.4)\n",
    "axes[0, 0].plot([y_train.min(), y_train.max()], [y_train.min(), y_train.max()], 'k--', lw=2)\n",
    "axes[0, 0].set_title('Valor predicho vs valor real', fontsize=10)\n",
    "axes[0, 0].set_xlabel('Real')\n",
    "axes[0, 0].set_ylabel('Predicción')\n",
    "axes[0, 0].tick_params(labelsize = 7)\n",
    "\n",
    "axes[0, 1].scatter(list(range(len(y_train))), residuos, edgecolors=(0, 0, 0), alpha=0.4)\n",
    "axes[0, 1].axhline(y=0, linestyle='--', color='black', lw=2)\n",
    "axes[0, 1].set_title('Residuos del modelo', fontsize = 10)\n",
    "axes[0, 1].set_xlabel('id')\n",
    "axes[0, 1].set_ylabel('Residuo')\n",
    "axes[0, 1].tick_params(labelsize = 7)\n",
    "\n",
    "sns.histplot(\n",
    "    data     = residuos,\n",
    "    stat     = \"density\",\n",
    "    kde      = True,\n",
    "    line_kws = {'linewidth': 1},\n",
    "    color    = \"firebrick\",\n",
    "    alpha    = 0.3,\n",
    "    ax       = axes[1, 0]\n",
    ")\n",
    "\n",
    "axes[1, 0].set_title('Distribución residuos del modelo', fontsize=10)\n",
    "axes[1, 0].set_xlabel(\"Residuo\")\n",
    "axes[1, 0].tick_params(labelsize = 7)\n",
    "\n",
    "sm.qqplot(\n",
    "    residuos,\n",
    "    fit   = True,\n",
    "    line  = 'q',\n",
    "    ax    = axes[1, 1],\n",
    "    color = 'firebrick',\n",
    "    alpha = 0.4,\n",
    "    lw    = 2\n",
    ")\n",
    "axes[1, 1].set_title('Q-Q residuos del modelo', fontsize=10)\n",
    "axes[1, 1].tick_params(labelsize=7)\n",
    "\n",
    "axes[2, 0].scatter(prediccion_train, residuos, edgecolors=(0, 0, 0), alpha=0.4)\n",
    "axes[2, 0].axhline(y=0, linestyle='--', color='black', lw=2)\n",
    "axes[2, 0].set_title('Residuos del modelo vs predicción', fontsize=10)\n",
    "axes[2, 0].set_xlabel('Predicción')\n",
    "axes[2, 0].set_ylabel('Residuo')\n",
    "axes[2, 0].tick_params(labelsize=7)\n",
    "\n",
    "# Se eliminan los axes vacíos\n",
    "fig.delaxes(axes[2,1])\n",
    "\n",
    "fig.tight_layout()\n",
    "plt.subplots_adjust(top=0.9)\n",
    "fig.suptitle('Diagnóstico residuos', fontsize=12)"
   ]
  },
  {
   "cell_type": "markdown",
   "metadata": {},
   "source": [
    "Test de supuestos"
   ]
  },
  {
   "cell_type": "code",
   "execution_count": null,
   "metadata": {},
   "outputs": [],
   "source": [
    "# Normalidad de los residuos Shapiro-Wilk test\n",
    "# ==============================================================================\n",
    "shapiro_test = stats.shapiro(residuos)\n",
    "print(f\"Test Shapiro-Wilk: estadístico = {shapiro_test[0]}, p-value = {shapiro_test[1]}\")\n",
    "\n",
    "# Normalidad de los residuos D'Agostino's K-squared test\n",
    "# ==============================================================================\n",
    "k2, p_value = stats.normaltest(residuos)\n",
    "print(f\"Test D'Agostino's K-squared: estadístico = {k2}, p-value = {p_value}\")"
   ]
  },
  {
   "cell_type": "code",
   "execution_count": null,
   "metadata": {},
   "outputs": [],
   "source": [
    "# Varianza Constante\n",
    "# Prueba de Breusch-Pagan\n",
    "# ==============================================================================\n",
    "lm, lm_p_value, fvalue, f_p_value = het_breuschpagan(residuos, X_train[predictores])\n",
    "print(f\"Estadítico= {fvalue}, p-value = {f_p_value}\")"
   ]
  },
  {
   "cell_type": "code",
   "execution_count": null,
   "metadata": {},
   "outputs": [],
   "source": [
    "# Multicolinealidad (Inflación de varianza VIF)\n",
    "# Correlación entre predictores numéricos\n",
    "# ==============================================================================\n",
    "corr_matrix = X_train[predictores].corr(method='pearson')\n",
    "tril = np.tril(np.ones(corr_matrix.shape)).astype(bool)\n",
    "corr_matrix[tril] = np.nan\n",
    "corr_matrix_tidy = corr_matrix.stack().reset_index(name='r')\n",
    "corr_matrix_tidy = corr_matrix_tidy.rename(columns={'level_0': 'variable_1', 'level_1': 'variable_2'})\n",
    "corr_matrix_tidy = corr_matrix_tidy.dropna()\n",
    "corr_matrix_tidy['r_abs'] = corr_matrix_tidy['r'].abs()\n",
    "corr_matrix_tidy = corr_matrix_tidy.sort_values('r_abs', ascending=False).reset_index(drop=True)\n",
    "corr_matrix_tidy"
   ]
  },
  {
   "cell_type": "code",
   "execution_count": null,
   "metadata": {},
   "outputs": [],
   "source": [
    "# Cálculo del VIF\n",
    "# ==============================================================================\n",
    "vif = pd.DataFrame()\n",
    "vif[\"variables\"] = X_train[predictores].columns\n",
    "vif[\"VIF\"] = [variance_inflation_factor(X_train[predictores].values, i) for i in range(X_train[predictores].shape[1])]\n",
    "vif\n",
    "\n",
    "#VIF son factores de inflación de varianza, podemos medir multicolinealidad con ellos según las reglas VIF"
   ]
  },
  {
   "cell_type": "markdown",
   "metadata": {},
   "source": [
    "Predicciones"
   ]
  },
  {
   "cell_type": "code",
   "execution_count": null,
   "metadata": {},
   "outputs": [],
   "source": [
    "# Prediciones del conjunto de test\n",
    "# ==============================================================================\n",
    "X_test = sm.add_constant(X_test, prepend=True).rename(columns={'const':'intercept'})\n",
    "modelo_final_res.predict(X_test[predictores])"
   ]
  },
  {
   "cell_type": "code",
   "execution_count": null,
   "metadata": {},
   "outputs": [],
   "source": [
    "# Predicciones con intervalo de confianza\n",
    "# ==============================================================================\n",
    "# La columna mean contiene la media de la predicción\n",
    "predicciones = modelo_final_res.get_prediction(exog = X_test[predictores]).summary_frame(alpha=0.05)\n",
    "predicciones"
   ]
  },
  {
   "cell_type": "code",
   "execution_count": null,
   "metadata": {},
   "outputs": [],
   "source": [
    "# Error de test del modelo\n",
    "# ==============================================================================\n",
    "error = rmse(y_test.flatten(), predicciones['mean'])\n",
    "print(f\"El error (rmse) de test es: {error}\")"
   ]
  },
  {
   "cell_type": "code",
   "execution_count": null,
   "metadata": {},
   "outputs": [],
   "source": [
    "# Correlación lineal entre variables numéricas\n",
    "# ==============================================================================\n",
    "corr_matrix = datos.corr(method='pearson')\n",
    "tril = np.tril(np.ones(corr_matrix.shape)).astype(bool)\n",
    "corr_matrix[tril] = np.nan\n",
    "corr_matrix_tidy = corr_matrix.stack().reset_index(name='r')\n",
    "corr_matrix_tidy = corr_matrix_tidy.rename(columns={'level_0': 'variable_1', 'level_1': 'variable_2'})\n",
    "corr_matrix_tidy = corr_matrix_tidy.dropna()\n",
    "corr_matrix_tidy['r_abs'] = corr_matrix_tidy['r'].abs()\n",
    "corr_matrix_tidy = corr_matrix_tidy.sort_values('r_abs', ascending=False).reset_index(drop=True)\n",
    "corr_matrix_tidy"
   ]
  },
  {
   "cell_type": "markdown",
   "metadata": {},
   "source": [
    "3 - Analice si hay una relación lineal entre las variables inversión en Marketing y ventas, mediante una regresión lineal con todos sus repectivos componentes.\n",
    "\n",
    "Formula Utilizada:\n",
    "\n",
    "y = β0+β1 * x\n",
    "\n",
    "x= variable independiente\n",
    "\n",
    "y= dependiente ventas\n",
    "\n",
    "β0= intercepto\n",
    "\n",
    "β1=pendiente midiendo el cambio en y\n",
    "\n",
    "\n"
   ]
  },
  {
   "cell_type": "code",
   "execution_count": 7,
   "metadata": {},
   "outputs": [],
   "source": [
    "x=sm.add_constant(x) # Añadimos la constante\n",
    "\n",
    "modelo_lineal=sm.OLS(y,x).fit() # Ajustamos el modelo\n",
    "resumen_modelo=modelo_lineal.summary() # Resumen del modelo\n",
    "#print(resumen_modelo)\n"
   ]
  },
  {
   "cell_type": "code",
   "execution_count": null,
   "metadata": {},
   "outputs": [],
   "source": [
    "\n",
    "\n",
    "intercepcion=modelo_lineal.params.iloc[0] # Valor de la intercepción\n",
    "pendiente=modelo_lineal.params.iloc[1] # Valor de la pendiente\n",
    "coeficiente_determinacion=modelo_lineal.rsquared # Coeficiente de determinación\n",
    "valor_p=modelo_lineal.pvalues.iloc[1]  # Valor p para la pendiente\n",
    "\n",
    "\n",
    "\n",
    "print(f'Intercepción (β0): {intercepcion}')\n",
    "print(f'Pendiente (β1): {pendiente}')\n",
    "print(f'Coeficiente de determinación (R²): {coeficiente_determinacion}')\n",
    "print(f'Valor p para la pendiente: {valor_p}')\n",
    "print(resumen_modelo)\n",
    "\n",
    "\n"
   ]
  },
  {
   "cell_type": "code",
   "execution_count": null,
   "metadata": {},
   "outputs": [],
   "source": [
    "predicion_ventas= modelo_lineal.predict(x) # Predicción de ventas\n",
    "# Graficar la línea de regresión con los datos reales\n",
    "plt.figure(figsize=(8, 6))\n",
    "\n",
    "# Gráfico de dispersión de las ventas reales vs inversión\n",
    "plt.scatter(DatosMd['Inversión en marketing digital'], DatosMd['Venta'], color='green', label='Datos')\n",
    "\n",
    "# Graficar la línea de regresión\n",
    "plt.plot(DatosMd['Inversión en marketing digital'], predicion_ventas, color='red', label='Regresión Lineal')\n",
    "\n",
    "# Añadir etiquetas y título\n",
    "plt.title('Regresión Lineal: Inversión en Marketing vs Ventas')\n",
    "plt.xlabel('Inversión en Marketing Digital (COP)')\n",
    "plt.ylabel('Ventas (COP)')\n",
    "plt.legend()\n",
    "plt.grid(True)"
   ]
  },
  {
   "cell_type": "markdown",
   "metadata": {},
   "source": [
    "En conclusion podriamos indicar que existe una relación medianamente positiva y significativa entre la inversión en marketing digital y las ventas.La línea roja muestra cómo se predicen las ventas en función de la inversión en marketing (datos en verde), observando el valor de la pendiente nos confirma la realacion entre estas variables.\n",
    "\n",
    "Otro punto importante analizar es el coeficiente de determinacion que esta en un 0.5580 de la variablidad en ventas puede explicarse por la inversion en marketing."
   ]
  },
  {
   "cell_type": "markdown",
   "metadata": {},
   "source": [
    "### Validando los supuestos del modelo de regresion lineal"
   ]
  },
  {
   "cell_type": "markdown",
   "metadata": {},
   "source": [
    "### Aleatoriedad"
   ]
  },
  {
   "cell_type": "code",
   "execution_count": null,
   "metadata": {},
   "outputs": [],
   "source": [
    "# Calculo de error (residuales)\n",
    "\n",
    "residuales= y - predicion_ventas# calculo de residuales\n",
    "print(residuales)\n",
    "print(f'Promedio de residuales: {residuales.mean()}')"
   ]
  },
  {
   "cell_type": "code",
   "execution_count": null,
   "metadata": {},
   "outputs": [],
   "source": [
    "#Aleatoriedad\n",
    "\n",
    "plt.figure(figsize=(8, 6))\n",
    "plt.plot(x.iloc[:,1], residuales, color='blue', linestyle='-', marker='o')\n",
    "plt.axhline(y=0, color='red', linestyle='--')  # Línea en y=0 para referencia\n",
    "plt.title('Gráfico de Residuos: Valores Predichos vs Residuos (Línea)')\n",
    "plt.xlabel('Orden de ejecución')\n",
    "plt.ylabel('Residuos')\n",
    "plt.grid(True)\n",
    "plt.legend()\n",
    "\n"
   ]
  },
  {
   "cell_type": "markdown",
   "metadata": {},
   "source": [
    "Dado que no se logra observar un patrón de comportamiento dentro de la gráfica de residuales, se puede concluir gráficamente que los residuos presentan una aleatoriedad para cumplir con el supuesto de aleatoriedad."
   ]
  },
  {
   "cell_type": "markdown",
   "metadata": {},
   "source": [
    "### Normalidad"
   ]
  },
  {
   "cell_type": "code",
   "execution_count": null,
   "metadata": {},
   "outputs": [],
   "source": [
    "#Se uso el supuesto de normalidad mediante el test de Shapiro\n",
    "shapiro(residuales)"
   ]
  },
  {
   "cell_type": "markdown",
   "metadata": {},
   "source": [
    "Dado que el test de Shapiro en los residuales muestra un valor p < alpha bajo la evidencia estadistica, se puede concluir que las variables no se distribuyen de una forma normal bajo un 95% de confianza"
   ]
  },
  {
   "cell_type": "markdown",
   "metadata": {},
   "source": [
    "### Linealidad"
   ]
  },
  {
   "cell_type": "code",
   "execution_count": null,
   "metadata": {},
   "outputs": [],
   "source": [
    "# Linealidad \n",
    "\n",
    "plt.figure(figsize=(8, 6))\n",
    "plt.scatter(predicion_ventas, residuales, color='blue', linestyle='-', marker='o')\n",
    "plt.axhline(y=0, color='red', linestyle='--')  # Línea en y=0 para referencia\n",
    "plt.title('Gráfico de Residuos: Valores Predichos vs Residuos (Línea)')\n",
    "plt.xlabel('Predicción')\n",
    "plt.ylabel('Residuos')\n",
    "plt.grid(True)\n",
    "plt.legend()"
   ]
  },
  {
   "cell_type": "markdown",
   "metadata": {},
   "source": [
    "Adicionalmente, como la gráfica no presenta un comportamiento circular y los valores en mayor proporción se encuentran entre los residuos de 1 y -1 podemos concluir gráficamente que los residuos presentan linealidad para cumplir con el supuesto de linealidad."
   ]
  },
  {
   "cell_type": "markdown",
   "metadata": {},
   "source": [
    "### Varianza"
   ]
  },
  {
   "cell_type": "code",
   "execution_count": null,
   "metadata": {},
   "outputs": [],
   "source": [
    "# Para confirmar si la varianza es constante usamos el test númerico de Levene como:\n",
    "\n",
    "# H0: La varianza es constante\n",
    "# Ha: La varianza no es constante\n",
    "\n",
    "levene(residuales, predicion_ventas)"
   ]
  },
  {
   "cell_type": "markdown",
   "metadata": {},
   "source": [
    "Como valor p del test númerico de Levene < alpha = 0.05 según la evidencia estadistica, rechazamos H0 a favor de la alternativa, por ello se puede concluir que la varianza no es constante con un 95% de confianza"
   ]
  },
  {
   "cell_type": "markdown",
   "metadata": {},
   "source": [
    "### Conclusión\n",
    "Se observa una relación positiva inicial entre la inversión en marketing y las ventas, lo que sugiere un vínculo directo. Sin embargo, el modelo podría estar dejando de lado componentes no lineales. El coeficiente de determinación (R²) revela que una parte significativa de la variabilidad en las ventas no está completamente explicada solo por la inversión en marketing. Al validar los supuestos de la regresión lineal, se concluye que, aunque existe una correlación moderada de 0.5580 entre las variables, no es apropiado modelarlas a través de una regresión lineal. Esto se debe a que, aunque se cumple el supuesto de aleatoriedad y linealidad, se violan los supuestos de normalidad y homocedasticidad (varianza constante), lo que genera que el coeficiente de regresión se vea afectado mostrando la linealidad moderada."
   ]
  }
 ],
 "metadata": {
  "kernelspec": {
   "display_name": "base",
   "language": "python",
   "name": "python3"
  },
  "language_info": {
   "codemirror_mode": {
    "name": "ipython",
    "version": 3
   },
   "file_extension": ".py",
   "mimetype": "text/x-python",
   "name": "python",
   "nbconvert_exporter": "python",
   "pygments_lexer": "ipython3",
   "version": "3.11.3"
  }
 },
 "nbformat": 4,
 "nbformat_minor": 2
}
